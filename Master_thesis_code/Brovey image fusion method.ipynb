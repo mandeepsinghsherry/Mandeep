{
 "cells": [
  {
   "cell_type": "code",
   "execution_count": 6,
   "metadata": {},
   "outputs": [
    {
     "ename": "ModuleNotFoundError",
     "evalue": "No module named 'osgeo'",
     "output_type": "error",
     "traceback": [
      "\u001b[1;31m---------------------------------------------------------------------------\u001b[0m",
      "\u001b[1;31mModuleNotFoundError\u001b[0m                       Traceback (most recent call last)",
      "\u001b[1;32m<ipython-input-6-b4576464c9eb>\u001b[0m in \u001b[0;36m<module>\u001b[1;34m\u001b[0m\n\u001b[0;32m      8\u001b[0m \u001b[1;32mimport\u001b[0m \u001b[0mcv2\u001b[0m \u001b[1;32mas\u001b[0m \u001b[0mcv\u001b[0m\u001b[1;33m\u001b[0m\u001b[1;33m\u001b[0m\u001b[0m\n\u001b[0;32m      9\u001b[0m \u001b[1;32mimport\u001b[0m \u001b[0mscipy\u001b[0m\u001b[1;33m.\u001b[0m\u001b[0mmisc\u001b[0m \u001b[1;32mas\u001b[0m \u001b[0msmi\u001b[0m\u001b[1;33m\u001b[0m\u001b[1;33m\u001b[0m\u001b[0m\n\u001b[1;32m---> 10\u001b[1;33m \u001b[1;32mfrom\u001b[0m \u001b[0mosgeo\u001b[0m \u001b[1;32mimport\u001b[0m \u001b[0mgdal\u001b[0m\u001b[1;33m\u001b[0m\u001b[1;33m\u001b[0m\u001b[0m\n\u001b[0m\u001b[0;32m     11\u001b[0m \u001b[1;32mfrom\u001b[0m \u001b[0mPIL\u001b[0m \u001b[1;32mimport\u001b[0m \u001b[0mImage\u001b[0m\u001b[1;33m\u001b[0m\u001b[1;33m\u001b[0m\u001b[0m\n\u001b[0;32m     12\u001b[0m \u001b[1;32mdef\u001b[0m \u001b[0mgdal_open\u001b[0m\u001b[1;33m(\u001b[0m\u001b[0mpath\u001b[0m\u001b[1;33m)\u001b[0m\u001b[1;33m:\u001b[0m\u001b[1;33m\u001b[0m\u001b[1;33m\u001b[0m\u001b[0m\n",
      "\u001b[1;31mModuleNotFoundError\u001b[0m: No module named 'osgeo'"
     ]
    }
   ],
   "source": [
    "# coding=utf-8\n",
    "'''\n",
    "Created on 2020-6-1\n",
    "@author: jiangao\n",
    "Project: Brovey image fusion method\n",
    "'''\n",
    "import numpy as np\n",
    "import cv2 as cv\n",
    "import scipy.misc as smi\n",
    "from osgeo import gdal\n",
    "from PIL import Image\n",
    "\n",
    "def gdal_open(path):\n",
    "    \"\"\"\n",
    "         Read image function\n",
    "         Input: image path\n",
    "         Returns: a three-dimensional array in np.ndArray format\n",
    "    \"\"\"\n",
    "    data = gdal.Open(path)\n",
    "    col = data.RasterXSize#Read image length\n",
    "    row = data.RasterYSize#Read image width\n",
    "    data_array_r = data.GetRasterBand(1).ReadAsArray(0,0,col,row).astype(np.float)#Read the first band of the image and convert it to an array\n",
    "    data_array_g = data.GetRasterBand(2).ReadAsArray(0,0,col,row).astype(np.float)#Read the second band of the image and convert it to an array\n",
    "    data_array_b = data.GetRasterBand(3).ReadAsArray(0,0,col,row).astype(np.float)#Read the third band of the image and convert it to an array\n",
    "    data_array = np.array((data_array_r,data_array_g,data_array_b))\n",
    "return data_array\n",
    " \n",
    "def imresize(data_low,data_high):\n",
    "    \"\"\"\n",
    "         Image scaling function\n",
    "         Input: three-dimensional array in np.ndArray format\n",
    "         Returns: a three-dimensional array in np.ndArray format\n",
    "    \"\"\"\n",
    "    band , col , row = data_high.shape\n",
    "    data = np.zeros(((band,col,row)))\n",
    "    for i in range(0,band):\n",
    "            data[i] = smi.imresize(data_low[i],(col,row))\n",
    "return data\n",
    " \n",
    "def brovey(data_low,data_high):\n",
    "    \"\"\"\n",
    "         Color normalization fusion function\n",
    "         Input: three-dimensional array in np.ndArray format\n",
    "         Returns: a three-dimensional array in utf-8 format that can draw the image\n",
    "    \"\"\"\n",
    "    band , col , row = data_low.shape\n",
    "    total = 0\n",
    "    for i in range(0,band):\n",
    "        total = total + data_low[i]\n",
    "    RGB = np.zeros(((band,col,row)))\n",
    "    for i in range(0,band):\n",
    "        RGB[i] = data_low[i] * data_high[i] / total\n",
    "    min_val = np.min(RGB.ravel())\n",
    "    max_val = np.max(RGB.ravel())\n",
    "    RGB = np.uint8((RGB.astype(np.float) - min_val) / (max_val - min_val) * 255)\n",
    "    RGB = Image.fromarray(cv2.merge([RGB[0],RGB[1],RGB[2]]))\n",
    "return RGB\n",
    " \n",
    "def main(path_low,path_high):\n",
    "    data_low = gdal_open(path_low)\n",
    "    data_high = gdal_open(path_high)\n",
    "    data_low = imresize(data_low,data_high)\n",
    "    RGB = brovey(data_low,data_high)\n",
    "    RGB.save('C:/Users/MANDEEP SINGH SHERRY/Desktop/practise/Brovey.png','png')\n",
    " \n",
    "if __name__ == \"__main__\":\n",
    "    path_low = 'C:/Users/MANDEEP SINGH SHERRY/Desktop/practise/chair4444.jpg'\n",
    "    path_high = 'C:/Users/MANDEEP SINGH SHERRY/Desktop/practise/specs.jpg'\n",
    "    main(path_low,path_high)"
   ]
  },
  {
   "cell_type": "code",
   "execution_count": null,
   "metadata": {},
   "outputs": [],
   "source": []
  }
 ],
 "metadata": {
  "kernelspec": {
   "display_name": "Python 3",
   "language": "python",
   "name": "python3"
  },
  "language_info": {
   "codemirror_mode": {
    "name": "ipython",
    "version": 3
   },
   "file_extension": ".py",
   "mimetype": "text/x-python",
   "name": "python",
   "nbconvert_exporter": "python",
   "pygments_lexer": "ipython3",
   "version": "3.8.5"
  }
 },
 "nbformat": 4,
 "nbformat_minor": 4
}
