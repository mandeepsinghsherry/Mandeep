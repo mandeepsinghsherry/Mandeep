{
 "cells": [
  {
   "cell_type": "code",
   "execution_count": 3,
   "metadata": {},
   "outputs": [
    {
     "name": "stdout",
     "output_type": "stream",
     "text": [
      "opencv_frame_0.jpg written!\n"
     ]
    }
   ],
   "source": [
    "import cv2\n",
    "from PIL import Image\n",
    "\n",
    "cam = cv2.VideoCapture(0)\n",
    "\n",
    "cv2.namedWindow(\"test\")\n",
    "\n",
    "img_counter = 0\n",
    "\n",
    "while True:\n",
    "    ret, frame = cam.read()\n",
    "    if not ret:\n",
    "        print(\"failed to grab frame\")\n",
    "        break\n",
    "    cv2.imshow(\"test\", frame)\n",
    "\n",
    "    k = cv2.waitKey(1)\n",
    "    if k%256 == 27:\n",
    "        # ESC pressed\n",
    "        print(\"Escape hit, closing...\")\n",
    "        break\n",
    "    elif k%256 == 32:\n",
    "        # SPACE pressed for capturing images\n",
    "        img_name = \"opencv_frame_{}.jpg\".format(img_counter)\n",
    "        cv2.imwrite(img_name, frame)\n",
    "        img=Image.open(img_name).convert('RGB')\n",
    "        frame1 = img.resize((225,225))\n",
    "        frame1.save('CAMERAIMAGE'+str(img_counter)+'.jpg')\n",
    "        print(\"{} written!\".format(img_name))\n",
    "        img_counter += 1\n",
    "        break\n",
    "\n",
    "cam.release()\n",
    "\n",
    "cv2.destroyAllWindows()"
   ]
  },
  {
   "cell_type": "code",
   "execution_count": 4,
   "metadata": {},
   "outputs": [
    {
     "name": "stdout",
     "output_type": "stream",
     "text": [
      "opencv_frame_thermal_0.jpg written!\n",
      "opencv_frame_thermal_0.jpg written Thermal!\n"
     ]
    }
   ],
   "source": [
    "# Import essential libraries\n",
    "import requests\n",
    "import cv2\n",
    "import numpy as np\n",
    "import imutils\n",
    "from PIL import Image\n",
    "import matplotlib as mpl\n",
    "import matplotlib.pyplot as plt\n",
    "import matplotlib.image as mpimg\n",
    "import numpy as np\n",
    "import glob\n",
    "import cv2\n",
    "import timeit\n",
    "from PIL import Image\n",
    "\n",
    "img_counter = 0\n",
    "# Replace the below URL with your own. Make sure to add \"/shot.jpg\" at last.\n",
    "#url = \"http://192.168.1.130:8080/shot.jpg\"\n",
    "url = \"http://192.168.1.21:8080/shot.jpg\"\n",
    "\n",
    "# While loop to continuously fetching data from the Url\n",
    "while True:\n",
    " img_resp = requests.get(url)\n",
    " img_arr = np.array(bytearray(img_resp.content), dtype=np.uint8)\n",
    " img = cv2.imdecode(img_arr, -1)\n",
    " img = imutils.resize(img, width=1000, height=1800)\n",
    " cv2.imshow(\"Android_cam\", img)\n",
    "\n",
    " # Press Esc key to exit   \n",
    " if cv2.waitKey(1) == 27:\n",
    "  break\n",
    " elif cv2.waitKey(1) == 32:\n",
    "  # SPACE pressed for taking image and convert it into thermal image\n",
    "  img_name = \"opencv_frame_thermal_{}.jpg\".format(img_counter)\n",
    "  cv2.imwrite(img_name, img)   \n",
    "  print(\"{} written!\".format(img_name))\n",
    "  img_src=Image.open(img_name).convert('L')            \n",
    "  cm_hot = mpl.cm.get_cmap('jet')\n",
    "  img_src.thumbnail((512,512))\n",
    "  im = np.array(img_src)\n",
    "  im = cm_hot(im)\n",
    "  im = np.uint8(im * 255)\n",
    "  im = Image.fromarray(im).convert('RGB')\n",
    "  im = im.resize((225,225))\n",
    "  im.save('ThermalByAndroidcam'+str(img_counter)+'.jpg')\n",
    "  print(\"{} written Thermal!\".format(img_name))\n",
    "  img_counter += 1\n",
    "  break\n",
    "\n",
    "cv2.destroyAllWindows()\n"
   ]
  },
  {
   "cell_type": "code",
   "execution_count": 4,
   "metadata": {},
   "outputs": [],
   "source": [
    "from tensorflow import keras\n",
    "model = keras.models.load_model('Concat_Model')"
   ]
  },
  {
   "cell_type": "code",
   "execution_count": 5,
   "metadata": {},
   "outputs": [
    {
     "name": "stdout",
     "output_type": "stream",
     "text": [
      "[[0.00790145 0.0134525  0.07625515 0.18976833 0.3834507  0.03420538\n",
      "  0.20818613 0.08678041]]\n",
      "probality of Bed:  0.7901451550424099\n",
      "\n",
      "probality of Bottle:  1.3452496379613876\n",
      "\n",
      "probality of chair:  7.625515013933182\n",
      "\n",
      "probality of Laptop:  18.976832926273346\n",
      "\n",
      "probality of Plate:  38.34506869316101\n",
      "\n",
      "probality of Sofa:  3.4205377101898193\n",
      "\n",
      "probality of Spectacle:  20.818613469600677\n",
      "\n",
      "probality of Table:  8.678040653467178\n",
      "__________________________________________________________________\n"
     ]
    }
   ],
   "source": [
    "from keras.preprocessing.image import load_img\n",
    "from keras.preprocessing.image import img_to_array\n",
    "\n",
    "\n",
    "# load the image thermal\n",
    "img1 = load_img('ThermalByAndroidcam0.jpg', target_size=(32, 32))\n",
    "    # convert to array\n",
    "img1 = img_to_array(img1)\n",
    "    # reshape into a single sample with 3 channels\n",
    "img1 = img1.reshape(1,32, 32, 3)\n",
    "    # prepare pixel data\n",
    "img1 = img1.astype('float32')\n",
    "img1 = img1 / 255.0\n",
    "\n",
    " # for second Model\n",
    " \n",
    "    \n",
    "    # load the camera image\n",
    "    \n",
    "img2 = load_img('CAMERAIMAGE0.jpg', target_size=(32, 32))\n",
    "    # convert to array\n",
    "img2 = img_to_array(img2)\n",
    "    # reshape into a single sample with 3 channels\n",
    "img2 = img2.reshape(1,32, 32, 3)\n",
    "    # prepare pixel data\n",
    "img2 = img2.astype('float32')\n",
    "img2 = img2 / 255.0\n",
    "    \n",
    "\n",
    "\n",
    "#print('Fusion of ' +ListPic1[i]+ ' and ' +ListPic2[i]+ ' are: ')\n",
    "result = model.predict([img1,img2])\n",
    "print(result)\n",
    "    #print(item1,item2)\n",
    "    \n",
    "print(\"probality of Bed: \", result[0][0]*100)\n",
    "print()\n",
    "print(\"probality of Bottle: \", result[0][1]*100)\n",
    "print()\n",
    "print(\"probality of chair: \", result[0][2]*100)\n",
    "print()\n",
    "print(\"probality of Laptop: \", result[0][3]*100)\n",
    "print()\n",
    "print(\"probality of Plate: \", result[0][4]*100)\n",
    "print()\n",
    "print(\"probality of Sofa: \", result[0][5]*100)\n",
    "print()\n",
    "print(\"probality of Spectacle: \", result[0][6]*100)\n",
    "print()\n",
    "print(\"probality of Table: \", result[0][7]*100)\n",
    "print(\"__________________________________________________________________\")"
   ]
  },
  {
   "cell_type": "code",
   "execution_count": null,
   "metadata": {},
   "outputs": [],
   "source": []
  }
 ],
 "metadata": {
  "kernelspec": {
   "display_name": "Python 3",
   "language": "python",
   "name": "python3"
  },
  "language_info": {
   "codemirror_mode": {
    "name": "ipython",
    "version": 3
   },
   "file_extension": ".py",
   "mimetype": "text/x-python",
   "name": "python",
   "nbconvert_exporter": "python",
   "pygments_lexer": "ipython3",
   "version": "3.8.5"
  }
 },
 "nbformat": 4,
 "nbformat_minor": 4
}
