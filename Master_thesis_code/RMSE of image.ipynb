{
 "cells": [
  {
   "cell_type": "code",
   "execution_count": 1,
   "metadata": {},
   "outputs": [
    {
     "data": {
      "text/plain": [
       "True"
      ]
     },
     "execution_count": 1,
     "metadata": {},
     "output_type": "execute_result"
    }
   ],
   "source": [
    "import cv2 as cv\n",
    "from sklearn.metrics import mean_squared_error\n",
    " \n",
    "img1=cv.imread(\"C:/Users/MANDEEP SINGH SHERRY/Desktop/practise/chair_bottle14.jpg\") #Read picture 1\n",
    "img2=cv.imread(\"C:/Users/MANDEEP SINGH SHERRY/Desktop/practise/chair_bottle_WGH3.jpg\") #Read picture 2\n",
    " \n",
    "# 'cv.imshow(ch(\"visible light picture\"), img1)\n",
    "# cv.imshow(ch(\"Infrared Picture\"), img2)'\n",
    " \n",
    "dst1=cv.addWeighted(img1,0.50,img2,0.50,0) #Weighted fusion processing means that picture 1 accounts for 25% and picture 2 accounts for 75%\n",
    "cv.imwrite(\"C:/Users/MANDEEP SINGH SHERRY/Desktop/practise/twomodels5555.jpg\",dst1)\n",
    " \n",
    "# cv.waitKey(0)\n",
    "# cv.destroyAllWindows()"
   ]
  },
  {
   "cell_type": "code",
   "execution_count": 2,
   "metadata": {},
   "outputs": [
    {
     "data": {
      "text/plain": [
       "301.7819061728395"
      ]
     },
     "execution_count": 2,
     "metadata": {},
     "output_type": "execute_result"
    }
   ],
   "source": [
    "import cv2 as cv\n",
    "from sklearn.metrics import mean_squared_error\n",
    "import numpy as np\n",
    "\n",
    "img1=cv.imread(\"C:/Users/MANDEEP SINGH SHERRY/Desktop/practise/camera_bottle236.jpg\") #Read picture 1\n",
    "img2=cv.imread(\"C:/Users/MANDEEP SINGH SHERRY/Desktop/practise/chair_bottle_WGH3.jpg\") #Read picture 2\n",
    "\n",
    "def MSE(img1, img2):\n",
    "        squared_diff = (img1 -img2) ** 2\n",
    "        summed = np.sum(squared_diff)\n",
    "        num_pix = img1.shape[0] * img1.shape[1] #img1 and 2 should have same shape\n",
    "        err = summed / num_pix\n",
    "        return err\n",
    "    \n",
    "MSE(img1, img2)"
   ]
  },
  {
   "cell_type": "code",
   "execution_count": 3,
   "metadata": {},
   "outputs": [],
   "source": [
    "import cv2 as cv\n",
    "import numpy as np\n",
    "# Loading exposure images into a list\n",
    "img_fn = [\"C:/Users/MANDEEP SINGH SHERRY/Desktop/practise/chair_bottle_WGH3.jpg\", \"C:/Users/MANDEEP SINGH SHERRY/Desktop/practise/chair_bottle14.jpg\",\"C:/Users/MANDEEP SINGH SHERRY/Desktop/practise/chair_bottle_WGH3.jpg\", \"C:/Users/MANDEEP SINGH SHERRY/Desktop/practise/chair_bottle14.jpg\"]\n",
    "img_list = [cv.imread(fn) for fn in img_fn]\n",
    "exposure_times = np.array([15.0, 2.5, 0.25, 0.0333], dtype=np.float32)"
   ]
  },
  {
   "cell_type": "code",
   "execution_count": 8,
   "metadata": {},
   "outputs": [],
   "source": [
    "# Merge exposures to HDR image\n",
    "merge_debevec = cv.createMergeDebevec()\n",
    "hdr_debevec = merge_debevec.process(img_list, times=exposure_times.copy())\n",
    "\n",
    "\n",
    "merge_robertson = cv.createMergeRobertson()\n",
    "hdr_robertson = merge_robertson.process(img_list, times=exposure_times.copy())\n",
    "\n",
    "# Tonemap HDR image\n",
    "tonemap1 = cv.createTonemap(gamma=2.2)\n",
    "res_debevec = tonemap1.process(hdr_debevec.copy())"
   ]
  },
  {
   "cell_type": "code",
   "execution_count": 9,
   "metadata": {},
   "outputs": [],
   "source": [
    "# Exposure fusion using Mertens\n",
    "merge_mertens = cv.createMergeMertens()\n",
    "res_mertens = merge_mertens.process(img_list)"
   ]
  },
  {
   "cell_type": "code",
   "execution_count": 12,
   "metadata": {},
   "outputs": [
    {
     "data": {
      "text/plain": [
       "True"
      ]
     },
     "execution_count": 12,
     "metadata": {},
     "output_type": "execute_result"
    }
   ],
   "source": [
    "# Convert datatype to 8-bit and save\n",
    "res_debevec_8bit = np.clip(res_debevec*255, 0, 255).astype('uint8')\n",
    "res_robertson_8bit = np.clip(hdr_robertson*255, 0, 255).astype('uint8')\n",
    "res_mertens_8bit = np.clip(res_mertens*255, 0, 255).astype('uint8')\n",
    "\n",
    "\n",
    "cv.imwrite(\"C:/Users/MANDEEP SINGH SHERRY/Desktop/practise/f1.jpg\", res_debevec_8bit)\n",
    "cv.imwrite(\"C:/Users/MANDEEP SINGH SHERRY/Desktop/practise/f2.jpg\", res_robertson_8bit)\n",
    "cv.imwrite(\"C:/Users/MANDEEP SINGH SHERRY/Desktop/practise/f3.jpg\", res_mertens_8bit)"
   ]
  }
 ],
 "metadata": {
  "kernelspec": {
   "display_name": "Python 3",
   "language": "python",
   "name": "python3"
  },
  "language_info": {
   "codemirror_mode": {
    "name": "ipython",
    "version": 3
   },
   "file_extension": ".py",
   "mimetype": "text/x-python",
   "name": "python",
   "nbconvert_exporter": "python",
   "pygments_lexer": "ipython3",
   "version": "3.8.5"
  }
 },
 "nbformat": 4,
 "nbformat_minor": 4
}
