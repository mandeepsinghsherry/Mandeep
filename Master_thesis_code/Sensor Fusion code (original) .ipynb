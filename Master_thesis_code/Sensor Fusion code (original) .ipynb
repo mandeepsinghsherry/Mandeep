{
 "cells": [
  {
   "cell_type": "code",
   "execution_count": 14,
   "metadata": {},
   "outputs": [
    {
     "name": "stdout",
     "output_type": "stream",
     "text": [
      "40\n",
      "Epoch 1/15\n",
      "1/1 [==============================] - 0s 400ms/step - loss: 1.3865 - accuracy: 0.2500 - val_loss: 1.3602 - val_accuracy: 0.2500\n",
      "Epoch 2/15\n",
      "1/1 [==============================] - 0s 217ms/step - loss: 1.3639 - accuracy: 0.2500 - val_loss: 1.3161 - val_accuracy: 0.4250\n",
      "Epoch 3/15\n",
      "1/1 [==============================] - 0s 215ms/step - loss: 1.3168 - accuracy: 0.4667 - val_loss: 1.2706 - val_accuracy: 0.3500\n",
      "Epoch 4/15\n",
      "1/1 [==============================] - 0s 256ms/step - loss: 1.2681 - accuracy: 0.3667 - val_loss: 1.1733 - val_accuracy: 0.7000\n",
      "Epoch 5/15\n",
      "1/1 [==============================] - 0s 184ms/step - loss: 1.1650 - accuracy: 0.6833 - val_loss: 1.0780 - val_accuracy: 0.7500\n",
      "Epoch 6/15\n",
      "1/1 [==============================] - 0s 181ms/step - loss: 1.0696 - accuracy: 0.7000 - val_loss: 0.9601 - val_accuracy: 0.8500\n",
      "Epoch 7/15\n",
      "1/1 [==============================] - 0s 185ms/step - loss: 0.9537 - accuracy: 0.8000 - val_loss: 0.8872 - val_accuracy: 0.8750\n",
      "Epoch 8/15\n",
      "1/1 [==============================] - 0s 180ms/step - loss: 0.8558 - accuracy: 0.8500 - val_loss: 0.7602 - val_accuracy: 0.6250\n",
      "Epoch 9/15\n",
      "1/1 [==============================] - 0s 182ms/step - loss: 0.7918 - accuracy: 0.6500 - val_loss: 0.6448 - val_accuracy: 0.9000\n",
      "Epoch 10/15\n",
      "1/1 [==============================] - 0s 228ms/step - loss: 0.6494 - accuracy: 0.9000 - val_loss: 0.5253 - val_accuracy: 0.9250\n",
      "Epoch 11/15\n",
      "1/1 [==============================] - 0s 229ms/step - loss: 0.5260 - accuracy: 0.8833 - val_loss: 0.4605 - val_accuracy: 0.8250\n",
      "Epoch 12/15\n",
      "1/1 [==============================] - 0s 234ms/step - loss: 0.5169 - accuracy: 0.7917 - val_loss: 0.3640 - val_accuracy: 0.9500\n",
      "Epoch 13/15\n",
      "1/1 [==============================] - 0s 234ms/step - loss: 0.3598 - accuracy: 0.9333 - val_loss: 0.2920 - val_accuracy: 0.9500\n",
      "Epoch 14/15\n",
      "1/1 [==============================] - 0s 234ms/step - loss: 0.3113 - accuracy: 0.9333 - val_loss: 0.2064 - val_accuracy: 0.9500\n",
      "Epoch 15/15\n",
      "1/1 [==============================] - 0s 237ms/step - loss: 0.2770 - accuracy: 0.9167 - val_loss: 0.1824 - val_accuracy: 0.9500\n"
     ]
    }
   ],
   "source": [
    "from PIL import Image\n",
    "import glob\n",
    "import tensorflow as tf\n",
    "import numpy as np\n",
    "from keras.utils import np_utils\n",
    "from keras.models import Sequential\n",
    "from keras.layers import Dense, Dropout, Conv2D, MaxPool2D, Flatten, Input\n",
    "from keras.utils import np_utils\n",
    "from keras.layers import Add\n",
    "from keras.layers import concatenate\n",
    "from keras.models import Model\n",
    "import pandas as pd\n",
    "\n",
    "\n",
    "# First Thermal model \n",
    "\n",
    "image_list = []\n",
    "\n",
    "def my_load_Train_data_1() :\n",
    "    image_list = []\n",
    "    for filename in glob.glob('C:/Users/MANDEEP SINGH SHERRY/Desktop/sensor fusion/thermal sampling/thermal training/*.jpg'): #assuming gif\n",
    "        im=Image.open(filename)\n",
    "        img = im.resize((32,32),Image.ANTIALIAS)\n",
    "        img= tf.keras.preprocessing.image.img_to_array(img)\n",
    "        img= img.reshape(32, 32, 3)\n",
    "        img =img.astype('float32')\n",
    "        img = img / 255.0\n",
    "        image_list.append(img)\n",
    "\n",
    "    return image_list\n",
    "\n",
    "def my_load_Test_data_1() :\n",
    "    image_list = []\n",
    "    for filename in glob.glob('C:/Users/MANDEEP SINGH SHERRY/Desktop/sensor fusion/thermal sampling/thermal testing/*.jpg'): #assuming gif\n",
    "        im=Image.open(filename)\n",
    "        img = im.resize((32,32),Image.ANTIALIAS)\n",
    "        img= tf.keras.preprocessing.image.img_to_array(img)\n",
    "        img= img.reshape(32, 32, 3)\n",
    "        img =img.astype('float32')\n",
    "        img = img / 255.0\n",
    "        image_list.append(img)\n",
    "\n",
    "    return image_list\n",
    "\n",
    "X1_train = my_load_Train_data_1()\n",
    "X1_test = my_load_Test_data_1()\n",
    "#print(len(X1_test))\n",
    "y1_train = pd.read_csv('C:/Users/MANDEEP SINGH SHERRY/Desktop/sensor fusion/y_labels.csv')\n",
    "y1_test = pd.read_csv('C:/Users/MANDEEP SINGH SHERRY/Desktop/sensor fusion/y_test_labels.csv')\n",
    "y1_test.values.reshape(-1,1)\n",
    "\n",
    "n_classes = 4\n",
    "X1_train = np.array(X1_train)\n",
    "Y1_train = np.array(y1_train)\n",
    "X1_test = np.array(X1_test)\n",
    "Y1_test = np.array(y1_test)\n",
    "\n",
    "Y1_train = np_utils.to_categorical(Y1_train, n_classes)\n",
    "Y1_test = np_utils.to_categorical(Y1_test, n_classes)\n",
    "# len(X1_train)\n",
    "# print(Y1_test)\n",
    "X1_train.shape\n",
    "Y1_train.shape\n",
    "\n",
    "#Secound Camera model\n",
    "\n",
    "image_list = []\n",
    "\n",
    "def my_load_Train_data_2() :\n",
    "    image_list = []\n",
    "    for filename in glob.glob('C:/Users/MANDEEP SINGH SHERRY/Desktop/sensor fusion/train/training/*.jpg'): #assuming gif\n",
    "        im=Image.open(filename)\n",
    "        img = im.resize((32,32),Image.ANTIALIAS)\n",
    "        img= tf.keras.preprocessing.image.img_to_array(img)\n",
    "        img= img.reshape(32, 32, 3)\n",
    "        img =img.astype('float32')\n",
    "        img = img / 255.0\n",
    "        image_list.append(img)\n",
    "\n",
    "    return image_list\n",
    "\n",
    "def my_load_Test_data_2() :\n",
    "    image_list = []\n",
    "    for filename in glob.glob('C:/Users/MANDEEP SINGH SHERRY/Desktop/sensor fusion/test/testing/*.jpg'): #assuming gif\n",
    "        im=Image.open(filename)\n",
    "        img = im.resize((32,32),Image.ANTIALIAS)\n",
    "        img= tf.keras.preprocessing.image.img_to_array(img)\n",
    "        img= img.reshape(32, 32, 3)\n",
    "        img =img.astype('float32')\n",
    "        img = img / 255.0\n",
    "        image_list.append(img)\n",
    "\n",
    "    return image_list\n",
    "\n",
    "X2_train = my_load_Train_data_2()\n",
    "X2_test = my_load_Test_data_2()\n",
    "print(len(X2_test))\n",
    "y2_train = pd.read_csv('C:/Users/MANDEEP SINGH SHERRY/Desktop/sensor fusion/y_labels.csv')\n",
    "y2_test = pd.read_csv('C:/Users/MANDEEP SINGH SHERRY/Desktop/sensor fusion/y_test_labels.csv')\n",
    "y2_test.values.reshape(-1,1)\n",
    "\n",
    "n_classes = 4\n",
    "X2_train = np.array(X2_train)\n",
    "Y2_train = np.array(y2_train)\n",
    "X2_test = np.array(X2_test)\n",
    "Y2_test = np.array(y2_test)\n",
    "\n",
    "Y2_train = np_utils.to_categorical(Y2_train, n_classes)\n",
    "Y2_test = np_utils.to_categorical(Y2_test, n_classes)\n",
    "\n",
    "\n",
    "# Model 1(Thermal)\n",
    "\n",
    "inp1 = Input(shape=(32, 32, 3))\n",
    "\n",
    "# convolutional layer\n",
    "conv1=Conv2D(100, kernel_size=(3,3), strides=(1,1), padding='same', activation='relu')(inp1)\n",
    "\n",
    "# convolutional layer\n",
    "conv2 =Conv2D(75, kernel_size=(3,3), strides=(1,1), padding='same', activation='relu')(conv1)\n",
    "pool1=MaxPool2D(pool_size=(2,2))(conv2)\n",
    "conv3=Conv2D(50, kernel_size=(3,3), strides=(1,1), padding='same', activation='relu')(pool1)\n",
    "pool2=MaxPool2D(pool_size=(2,2))(conv3)\n",
    "\n",
    "# flatten output of conv\n",
    "flat1=Flatten()(pool2)\n",
    "\n",
    "# hidden layer\n",
    "hidd1=(Dense(25, activation='relu'))(flat1)\n",
    "dense1=(Dense(10, activation='relu'))(hidd1)\n",
    "output1=Flatten()(dense1)\n",
    "\n",
    "#output= (Dense(10, activation='relu'))(model_1)\n",
    "\n",
    "# Model 2\n",
    "\n",
    "# convolutional layer\n",
    "inp2 = Input(shape=(32, 32, 3))\n",
    "\n",
    "# convolutional layer\n",
    "conv1 =Conv2D(100, kernel_size=(3,3), strides=(1,1), padding='same', activation='relu')(inp2)\n",
    "\n",
    "# convolutional layer\n",
    "conv2 =Conv2D(75, kernel_size=(3,3), strides=(1,1), padding='same', activation='relu')(conv1)\n",
    "pool1=MaxPool2D(pool_size=(2,2))(conv2)\n",
    "conv3=Conv2D(50, kernel_size=(3,3), strides=(1,1), padding='same', activation='relu')(pool1)\n",
    "pool2=MaxPool2D(pool_size=(2,2))(conv3)\n",
    "\n",
    "# flatten output of conv\n",
    "flat1=Flatten()(pool2)\n",
    "\n",
    "# hidden layer\n",
    "hidd1=Dense(25, activation='relu')(flat1)\n",
    "dense2=Dense(10, activation='relu')(hidd1)\n",
    "output2=Flatten()(dense2)\n",
    "# concatinate two models \n",
    "\n",
    "\n",
    "concat1 = concatenate([output1, output2])\n",
    "Out  = Dense(4, activation='softmax')(concat1)\n",
    "\n",
    "model = Model(inputs=[inp1, inp2], outputs = Out)\n",
    "\n",
    "# compiling the sequential model\n",
    "model.compile(loss='categorical_crossentropy', metrics=['accuracy'], optimizer='adam') \n",
    "\n",
    "\n",
    "## output layer\n",
    "#model_1.add(Dense(2, activation='softmax'))\n",
    "\n",
    "## compiling the sequential model\n",
    "#model_1.compile(loss='categorical_crossentropy', metrics=['accuracy'], optimizer='adam')\n",
    "\n",
    "# training the model for 10 epochs\n",
    "history= model.fit([X1_train,X2_train],Y2_train, batch_size=128,epochs=15,validation_data=([X1_test,X2_test],Y2_test))\n",
    "\n",
    "\n"
   ]
  },
  {
   "cell_type": "code",
   "execution_count": 7,
   "metadata": {},
   "outputs": [
    {
     "name": "stdout",
     "output_type": "stream",
     "text": [
      "1/1 [==============================] - 0s 3ms/step - loss: 0.1432 - accuracy: 0.9500\n",
      "[INFO] Accuracy: 95.00%\n",
      "[INFO] Loss: 0.143209770321846\n",
      "Time:  0:00:00.210674\n"
     ]
    }
   ],
   "source": [
    "import pandas as pd\n",
    "import numpy as np \n",
    "import itertools\n",
    "import keras\n",
    "from sklearn import metrics\n",
    "from sklearn.metrics import confusion_matrix\n",
    "from keras.preprocessing.image import ImageDataGenerator, img_to_array, load_img \n",
    "from keras.models import Sequential \n",
    "from keras import optimizers\n",
    "from keras.preprocessing import image\n",
    "from keras.layers import Dropout, Flatten, Dense \n",
    "from keras import applications \n",
    "from keras.utils.np_utils import to_categorical \n",
    "import matplotlib.pyplot as plt \n",
    "import matplotlib.image as mpimg\n",
    "%matplotlib inline\n",
    "import math \n",
    "import datetime\n",
    "import time\n",
    "\n",
    "\n",
    "#model.save_weights(top_model_weights_path)\n",
    "start = datetime.datetime.now()\n",
    "(eval_loss, eval_accuracy) = model.evaluate([X1_test,X2_test],Y2_test, batch_size=128, verbose=1)\n",
    "print('[INFO] Accuracy: {:.2f}%'.format(eval_accuracy * 100)) \n",
    "print('[INFO] Loss: {}'.format(eval_loss)) \n",
    "end= datetime.datetime.now()\n",
    "elapsed= end-start\n",
    "print ('Time: ', elapsed)"
   ]
  },
  {
   "cell_type": "code",
   "execution_count": 8,
   "metadata": {},
   "outputs": [
    {
     "name": "stdout",
     "output_type": "stream",
     "text": [
      "dict_keys(['loss', 'accuracy', 'val_loss', 'val_accuracy'])\n"
     ]
    },
    {
     "data": {
      "image/png": "[encoded data removed]",
      "text/plain": [
       "<Figure size 432x288 with 1 Axes>"
      ]
     },
     "metadata": {
      "needs_background": "light"
     },
     "output_type": "display_data"
    },
    {
     "data": {
      "image/png": "[encoded data removed]",
      "text/plain": [
       "<Figure size 432x288 with 1 Axes>"
      ]
     },
     "metadata": {
      "needs_background": "light"
     },
     "output_type": "display_data"
    }
   ],
   "source": [
    "import matplotlib.pyplot as plt\n",
    "\n",
    "# list all data in history\n",
    "print(history.history.keys())\n",
    "# summarize history for accuracy\n",
    "plt.plot(history.history['accuracy'])\n",
    "plt.plot(history.history['val_accuracy'])\n",
    "plt.title('model accuracy')\n",
    "plt.ylabel('accuracy')\n",
    "plt.xlabel('epoch')\n",
    "plt.legend(['train', 'test'], loc='upper left')\n",
    "plt.show()\n",
    "# summarize history for loss\n",
    "plt.plot(history.history['loss'])\n",
    "plt.plot(history.history['val_loss'])\n",
    "plt.title('model loss')\n",
    "plt.ylabel('loss')\n",
    "plt.xlabel('epoch')\n",
    "plt.legend(['train', 'test'], loc='upper left')\n",
    "plt.show()\n",
    "\n",
    "\n",
    "\n"
   ]
  },
  {
   "cell_type": "code",
   "execution_count": 9,
   "metadata": {},
   "outputs": [
    {
     "name": "stdout",
     "output_type": "stream",
     "text": [
      "[[1.4645750e-04 2.3118202e-03 7.5969961e-04 9.9678195e-01]]\n"
     ]
    }
   ],
   "source": [
    "#model.save(\"concatModel\")\n",
    "# make a prediction for a new image.\n",
    "from keras.preprocessing.image import load_img\n",
    "from keras.preprocessing.image import img_to_array\n",
    "# load the image thermal\n",
    "img1 = load_img('pt10.jpg', target_size=(32, 32))\n",
    "# convert to array\n",
    "img1 = img_to_array(img1)\n",
    "# reshape into a single sample with 3 channels\n",
    "img1 = img1.reshape(1,32, 32, 3)\n",
    "# prepare pixel data\n",
    "img1 = img1.astype('float32')\n",
    "img1 = img1 / 255.0\n",
    "\n",
    "# for second Model\n",
    "img2 = load_img('p10.jpg', target_size=(32, 32))\n",
    "# convert to array\n",
    "img2 = img_to_array(img2)\n",
    "# reshape into a single sample with 3 channels\n",
    "img2 = img2.reshape(1,32, 32, 3)\n",
    "# prepare pixel data\n",
    "img2 = img2.astype('float32')\n",
    "img2 = img2 / 255.0\n",
    "result = model.predict([img1,img2])\n",
    "print(result)"
   ]
  },
  {
   "cell_type": "code",
   "execution_count": 10,
   "metadata": {},
   "outputs": [
    {
     "name": "stdout",
     "output_type": "stream",
     "text": [
      "Classification Matrix\n",
      "              precision    recall  f1-score   support\n",
      "\n",
      "       apple       0.90      0.90      0.90        10\n",
      "      banana       1.00      0.90      0.95        10\n",
      "      laptop       1.00      1.00      1.00        10\n",
      "   aeroplane       1.00      1.00      1.00        10\n",
      "\n",
      "   micro avg       0.97      0.95      0.96        40\n",
      "   macro avg       0.97      0.95      0.96        40\n",
      "weighted avg       0.97      0.95      0.96        40\n",
      " samples avg       0.95      0.95      0.95        40\n",
      "\n",
      "Confusion Matrix\n",
      "[[10  0  0  0]\n",
      " [ 1  9  0  0]\n",
      " [ 0  0 10  0]\n",
      " [ 0  0  0 10]]\n"
     ]
    },
    {
     "name": "stderr",
     "output_type": "stream",
     "text": [
      "C:\\Users\\MANDEEP SINGH SHERRY\\Anaconda3\\lib\\site-packages\\sklearn\\metrics\\_classification.py:1221: UndefinedMetricWarning: Precision and F-score are ill-defined and being set to 0.0 in samples with no predicted labels. Use `zero_division` parameter to control this behavior.\n",
      "  _warn_prf(average, modifier, msg_start, len(result))\n",
      "C:\\Users\\MANDEEP SINGH SHERRY\\Anaconda3\\lib\\site-packages\\sklearn\\utils\\validation.py:70: FutureWarning: Pass labels=[0, 1, 2, 3] as keyword args. From version 0.25 passing these as positional arguments will result in an error\n",
      "  FutureWarning)\n"
     ]
    }
   ],
   "source": [
    "import numpy as np\n",
    "from sklearn.metrics import confusion_matrix\n",
    "\n",
    "preds = np.round(model.predict([X1_test,X2_test]),0)\n",
    "#print('rounded test_labels', preds)\n",
    "\n",
    "\n",
    "print('Classification Matrix')\n",
    "\n",
    "fusion = ['apple','banana','laptop','aeroplane']\n",
    "classification_metrics = metrics.classification_report(Y2_test, preds,target_names = fusion)\n",
    "print(classification_metrics)\n",
    "\n",
    "print('Confusion Matrix')\n",
    "\n",
    "sign=[0,1,2,3]\n",
    "cf_matrix = confusion_matrix(Y2_test.argmax(axis=1), preds.argmax(axis=1),sign)\n",
    "print(cf_matrix)"
   ]
  },
  {
   "cell_type": "code",
   "execution_count": 11,
   "metadata": {},
   "outputs": [
    {
     "name": "stdout",
     "output_type": "stream",
     "text": [
      "Normalized confusion matrix\n"
     ]
    },
    {
     "data": {
      "image/png": "[encoded data removed]",
      "text/plain": [
       "<Figure size 432x288 with 2 Axes>"
      ]
     },
     "metadata": {
      "needs_background": "light"
     },
     "output_type": "display_data"
    }
   ],
   "source": [
    "import numpy as np\n",
    "from sklearn.metrics import confusion_matrix\n",
    "\n",
    "categorical_test_labels = pd.DataFrame(Y2_test).idxmax(axis=1)\n",
    "categorical_preds = pd.DataFrame(preds).idxmax(axis=1)\n",
    "confusion_matrix= confusion_matrix(categorical_test_labels, categorical_preds)\n",
    "\n",
    "#To get better visual of the confusion matrix:\n",
    "def plot_confusion_matrix(cm, classes,\n",
    "   normalize=False,\n",
    "   title='Confusion matrix',\n",
    "   cmap=plt.cm.Blues):\n",
    " \n",
    "#Add Normalization Option\n",
    " #‘’’prints pretty confusion metric with normalization option ‘’’\n",
    "   if normalize:\n",
    "     cm = cm.astype('float') / cm.sum(axis=1)[:, np.newaxis]\n",
    "     print('Normalized confusion matrix')\n",
    "   else:\n",
    "     print('Confusion matrix, without normalization')\n",
    " \n",
    "# print(cm)\n",
    " \n",
    "   plt.imshow(cm, interpolation='nearest', cmap=cmap)\n",
    "   plt.title(title)\n",
    "   plt.colorbar()\n",
    "   tick_marks = np.arange(len(classes))\n",
    "   plt.xticks(tick_marks, classes, rotation=45)\n",
    "   plt.yticks(tick_marks, classes)\n",
    " \n",
    "   fmt = '.2f' if normalize else 'd'\n",
    "   thresh = cm.max() / 2.\n",
    "   for i, j in itertools.product(range(cm.shape[0]), range(cm.shape[1])):\n",
    "      plt.text(j, i, format(cm[i, j], fmt), horizontalalignment='center', color='white' if cm[i, j] > thresh else 'black')\n",
    " \n",
    "   plt.tight_layout()\n",
    "   plt.ylabel('True label')\n",
    "   plt.xlabel('Predicted label')\n",
    "    \n",
    "    \n",
    "    \n",
    "plot_confusion_matrix(confusion_matrix, ['apple','banana','laptop','aeroplane'] , normalize= True)   "
   ]
  },
  {
   "cell_type": "code",
   "execution_count": 12,
   "metadata": {},
   "outputs": [
    {
     "name": "stdout",
     "output_type": "stream",
     "text": [
      "probality of Apple\n",
      "0.01464575034333393\n",
      "probality of Banana\n",
      "0.2311820164322853\n",
      "probality of Laptop\n",
      "0.07596996147185564\n",
      "probality of aeroplane\n",
      "99.67819452285767\n"
     ]
    }
   ],
   "source": [
    "print(\"probality of Apple\")\n",
    "print(result[0][0]*100)\n",
    "print(\"probality of Banana\")\n",
    "print(result[0][1]*100)\n",
    "print(\"probality of Laptop\")\n",
    "print(result[0][2]*100)\n",
    "print(\"probality of aeroplane\")\n",
    "print(result[0][3]*100)"
   ]
  },
  {
   "cell_type": "code",
   "execution_count": 13,
   "metadata": {},
   "outputs": [
    {
     "name": "stdout",
     "output_type": "stream",
     "text": [
      "[[1.7508146e-06 3.6979113e-02 6.5375734e-03 9.5648152e-01]]\n",
      "probality of Apple\n",
      "0.00017508145901956595\n",
      "probality of Banana\n",
      "3.6979112774133682\n",
      "probality of Laptop\n",
      "0.6537573412060738\n",
      "probality of aeroplane\n",
      "95.64815163612366\n"
     ]
    }
   ],
   "source": [
    "# loaded_model = keras.models.load_model(\"concatModel\")\n",
    "# result = loaded_model.predict([img1,img2])\n",
    "# print(result)\n",
    "\n",
    "# print(\"probality of Apple\")\n",
    "# print(result[0][0]*100)\n",
    "# print(\"probality of Banana\")\n",
    "# print(result[0][1]*100)\n",
    "# print(\"probality of Laptop\")\n",
    "# print(result[0][2]*100)\n",
    "# print(\"probality of aeroplane\")\n",
    "# print(result[0][3]*100)\n"
   ]
  }
 ],
 "metadata": {
  "kernelspec": {
   "display_name": "Python 3",
   "language": "python",
   "name": "python3"
  },
  "language_info": {
   "codemirror_mode": {
    "name": "ipython",
    "version": 3
   },
   "file_extension": ".py",
   "mimetype": "text/x-python",
   "name": "python",
   "nbconvert_exporter": "python",
   "pygments_lexer": "ipython3",
   "version": "3.7.1"
  }
 },
 "nbformat": 4,
 "nbformat_minor": 4
}
