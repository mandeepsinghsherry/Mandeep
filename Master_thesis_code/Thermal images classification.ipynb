{
 "cells": [
  {
   "cell_type": "code",
   "execution_count": 26,
   "metadata": {},
   "outputs": [],
   "source": [
    "from PIL import Image\n",
    "import glob\n",
    "import tensorflow as tf\n",
    "import numpy as np\n",
    "\n",
    "image_list = []\n",
    "\n",
    "def my_load_Train_data() :\n",
    "    image_list = []\n",
    "    for filename in glob.glob('C:/Users/MANDEEP SINGH SHERRY/Desktop/thermal train/*.jpg'): #assuming gif\n",
    "        im=Image.open(filename)\n",
    "        img = im.resize((32,32),Image.ANTIALIAS)\n",
    "        img= tf.keras.preprocessing.image.img_to_array(img)\n",
    "        img= img.reshape(32, 32, 3)\n",
    "        img =img.astype('float32')\n",
    "        img = img / 255.0\n",
    "        image_list.append(img)\n",
    "\n",
    "    return image_list\n",
    "\n",
    "def my_load_Test_data() :\n",
    "    image_list = []\n",
    "    for filename in glob.glob('C:/Users/MANDEEP SINGH SHERRY/Desktop/thermal test/*.jpg'): #assuming gif\n",
    "        im=Image.open(filename)\n",
    "        img = im.resize((32,32),Image.ANTIALIAS)\n",
    "        img= tf.keras.preprocessing.image.img_to_array(img)\n",
    "        img= img.reshape(32, 32, 3)\n",
    "        img =img.astype('float32')\n",
    "        img = img / 255.0\n",
    "        image_list.append(img)\n",
    "\n",
    "    return image_list"
   ]
  },
  {
   "cell_type": "code",
   "execution_count": 27,
   "metadata": {},
   "outputs": [],
   "source": [
    "from PIL import Image"
   ]
  },
  {
   "cell_type": "code",
   "execution_count": 28,
   "metadata": {},
   "outputs": [
    {
     "name": "stdout",
     "output_type": "stream",
     "text": [
      "6\n",
      "[[0. 1.]\n",
      " [0. 1.]\n",
      " [0. 1.]\n",
      " [1. 0.]\n",
      " [1. 0.]\n",
      " [1. 0.]]\n"
     ]
    },
    {
     "data": {
      "text/plain": [
       "(24, 32, 32, 3)"
      ]
     },
     "execution_count": 28,
     "metadata": {},
     "output_type": "execute_result"
    }
   ],
   "source": [
    "from keras.utils import np_utils\n",
    "X_train = my_load_Train_data()\n",
    "X_test = my_load_Test_data()\n",
    "print(len(X_test))\n",
    "y_train = pd.read_csv('C:/Users/MANDEEP SINGH SHERRY/Desktop/y_labels.csv')\n",
    "y_test = [[1],\n",
    "           [1],\n",
    "           [1],\n",
    "           [0],\n",
    "           [0],\n",
    "           [0]]\n",
    "n_classes = 2\n",
    "X_train = np.array(X_train)\n",
    "Y_train = np.array(y_train)\n",
    "X_test = np.array(X_test)\n",
    "Y_test = np.array(y_test)\n",
    "\n",
    "Y_train = np_utils.to_categorical(Y_train, n_classes)\n",
    "Y_test = np_utils.to_categorical(Y_test, n_classes)\n",
    "len(X_train)\n",
    "print(Y_test)\n",
    "X_train.shape"
   ]
  },
  {
   "cell_type": "code",
   "execution_count": 29,
   "metadata": {},
   "outputs": [
    {
     "name": "stdout",
     "output_type": "stream",
     "text": [
      "Epoch 1/32\n",
      "1/1 [==============================] - 0s 402ms/step - loss: 0.7215 - accuracy: 0.5000 - val_loss: 0.6961 - val_accuracy: 0.5000\n",
      "Epoch 2/32\n",
      "1/1 [==============================] - 0s 38ms/step - loss: 0.6977 - accuracy: 0.4167 - val_loss: 0.6811 - val_accuracy: 1.0000\n",
      "Epoch 3/32\n",
      "1/1 [==============================] - 0s 52ms/step - loss: 0.6962 - accuracy: 0.5833 - val_loss: 0.6760 - val_accuracy: 0.5000\n",
      "Epoch 4/32\n",
      "1/1 [==============================] - 0s 33ms/step - loss: 0.7636 - accuracy: 0.4583 - val_loss: 0.6725 - val_accuracy: 0.5000\n",
      "Epoch 5/32\n",
      "1/1 [==============================] - 0s 43ms/step - loss: 0.7014 - accuracy: 0.5833 - val_loss: 0.6753 - val_accuracy: 0.5000\n",
      "Epoch 6/32\n",
      "1/1 [==============================] - 0s 41ms/step - loss: 0.7036 - accuracy: 0.5417 - val_loss: 0.6900 - val_accuracy: 0.5000\n",
      "Epoch 7/32\n",
      "1/1 [==============================] - 0s 39ms/step - loss: 0.7099 - accuracy: 0.4583 - val_loss: 0.6880 - val_accuracy: 0.5000\n",
      "Epoch 8/32\n",
      "1/1 [==============================] - 0s 40ms/step - loss: 0.6835 - accuracy: 0.6250 - val_loss: 0.6852 - val_accuracy: 0.5000\n",
      "Epoch 9/32\n",
      "1/1 [==============================] - 0s 64ms/step - loss: 0.7027 - accuracy: 0.3750 - val_loss: 0.6822 - val_accuracy: 0.5000\n",
      "Epoch 10/32\n",
      "1/1 [==============================] - 0s 35ms/step - loss: 0.7001 - accuracy: 0.5417 - val_loss: 0.6809 - val_accuracy: 0.5000\n",
      "Epoch 11/32\n",
      "1/1 [==============================] - 0s 59ms/step - loss: 0.6661 - accuracy: 0.6250 - val_loss: 0.6802 - val_accuracy: 0.5000\n",
      "Epoch 12/32\n",
      "1/1 [==============================] - 0s 38ms/step - loss: 0.7032 - accuracy: 0.4167 - val_loss: 0.6716 - val_accuracy: 0.8333\n",
      "Epoch 13/32\n",
      "1/1 [==============================] - 0s 61ms/step - loss: 0.6762 - accuracy: 0.5833 - val_loss: 0.6591 - val_accuracy: 0.8333\n",
      "Epoch 14/32\n",
      "1/1 [==============================] - 0s 38ms/step - loss: 0.6256 - accuracy: 0.8333 - val_loss: 0.6549 - val_accuracy: 0.8333\n",
      "Epoch 15/32\n",
      "1/1 [==============================] - 0s 36ms/step - loss: 0.6609 - accuracy: 0.5417 - val_loss: 0.6473 - val_accuracy: 1.0000\n",
      "Epoch 16/32\n",
      "1/1 [==============================] - 0s 44ms/step - loss: 0.6340 - accuracy: 0.6667 - val_loss: 0.6359 - val_accuracy: 0.8333\n",
      "Epoch 17/32\n",
      "1/1 [==============================] - 0s 34ms/step - loss: 0.6395 - accuracy: 0.6250 - val_loss: 0.6226 - val_accuracy: 0.8333\n",
      "Epoch 18/32\n",
      "1/1 [==============================] - 0s 40ms/step - loss: 0.5944 - accuracy: 0.6667 - val_loss: 0.6028 - val_accuracy: 1.0000\n",
      "Epoch 19/32\n",
      "1/1 [==============================] - 0s 34ms/step - loss: 0.6133 - accuracy: 0.5833 - val_loss: 0.5886 - val_accuracy: 0.8333\n",
      "Epoch 20/32\n",
      "1/1 [==============================] - 0s 40ms/step - loss: 0.6001 - accuracy: 0.5833 - val_loss: 0.5848 - val_accuracy: 0.8333\n",
      "Epoch 21/32\n",
      "1/1 [==============================] - 0s 37ms/step - loss: 0.6672 - accuracy: 0.6250 - val_loss: 0.5977 - val_accuracy: 0.6667\n",
      "Epoch 22/32\n",
      "1/1 [==============================] - 0s 45ms/step - loss: 0.5467 - accuracy: 0.7083 - val_loss: 0.5983 - val_accuracy: 0.6667\n",
      "Epoch 23/32\n",
      "1/1 [==============================] - 0s 34ms/step - loss: 0.7634 - accuracy: 0.4583 - val_loss: 0.5823 - val_accuracy: 0.8333\n",
      "Epoch 24/32\n",
      "1/1 [==============================] - 0s 74ms/step - loss: 0.5941 - accuracy: 0.6250 - val_loss: 0.5613 - val_accuracy: 0.8333\n",
      "Epoch 25/32\n",
      "1/1 [==============================] - 0s 38ms/step - loss: 0.5963 - accuracy: 0.6250 - val_loss: 0.5438 - val_accuracy: 1.0000\n",
      "Epoch 26/32\n",
      "1/1 [==============================] - 0s 65ms/step - loss: 0.5911 - accuracy: 0.6250 - val_loss: 0.5251 - val_accuracy: 1.0000\n",
      "Epoch 27/32\n",
      "1/1 [==============================] - 0s 36ms/step - loss: 0.4960 - accuracy: 0.7500 - val_loss: 0.4997 - val_accuracy: 1.0000\n",
      "Epoch 28/32\n",
      "1/1 [==============================] - 0s 46ms/step - loss: 0.5078 - accuracy: 0.8333 - val_loss: 0.4640 - val_accuracy: 1.0000\n",
      "Epoch 29/32\n",
      "1/1 [==============================] - 0s 36ms/step - loss: 0.6899 - accuracy: 0.6250 - val_loss: 0.4500 - val_accuracy: 1.0000\n",
      "Epoch 30/32\n",
      "1/1 [==============================] - 0s 46ms/step - loss: 0.6315 - accuracy: 0.5833 - val_loss: 0.4452 - val_accuracy: 1.0000\n",
      "Epoch 31/32\n",
      "1/1 [==============================] - 0s 51ms/step - loss: 0.4834 - accuracy: 0.7083 - val_loss: 0.4367 - val_accuracy: 1.0000\n",
      "Epoch 32/32\n",
      "1/1 [==============================] - 0s 43ms/step - loss: 0.4403 - accuracy: 0.8333 - val_loss: 0.4259 - val_accuracy: 1.0000\n"
     ]
    },
    {
     "data": {
      "text/plain": [
       "<tensorflow.python.keras.callbacks.History at 0x1f23362c438>"
      ]
     },
     "execution_count": 29,
     "metadata": {},
     "output_type": "execute_result"
    }
   ],
   "source": [
    "from keras.datasets import cifar10\n",
    "from keras.models import Sequential\n",
    "from keras.layers import Dense, Dropout, Conv2D, MaxPool2D, Flatten\n",
    "from keras.utils import np_utils\n",
    "\n",
    "model = Sequential()\n",
    "\n",
    "# convolutional layer\n",
    "model.add(Conv2D(100, kernel_size=(3,3), strides=(1,1), padding='same', activation='relu', input_shape=(32, 32, 3)))\n",
    "\n",
    "# convolutional layer\n",
    "model.add(Conv2D(75, kernel_size=(3,3), strides=(1,1), padding='same', activation='relu'))\n",
    "model.add(MaxPool2D(pool_size=(2,2)))\n",
    "model.add(Dropout(0.10))\n",
    "\n",
    "model.add(Conv2D(50, kernel_size=(3,3), strides=(1,1), padding='same', activation='relu'))\n",
    "model.add(MaxPool2D(pool_size=(2,2)))\n",
    "model.add(Dropout(0.10))\n",
    "\n",
    "# flatten output of conv\n",
    "model.add(Flatten())\n",
    "\n",
    "# hidden layer\n",
    "model.add(Dense(25, activation='relu'))\n",
    "model.add(Dropout(0.5))\n",
    "model.add(Dense(10, activation='relu'))\n",
    "model.add(Dropout(0.5))\n",
    "# output layer\n",
    "model.add(Dense(2, activation='softmax'))\n",
    "\n",
    "# compiling the sequential model\n",
    "model.compile(loss='categorical_crossentropy', metrics=['accuracy'], optimizer='adam')\n",
    "\n",
    "# training the model for 10 epochs\n",
    "model.fit(X_train, Y_train, batch_size=128,epochs=32,validation_data=(X_test, Y_test))"
   ]
  },
  {
   "cell_type": "code",
   "execution_count": 30,
   "metadata": {},
   "outputs": [
    {
     "data": {
      "text/html": [
       "<div>\n",
       "<style scoped>\n",
       "    .dataframe tbody tr th:only-of-type {\n",
       "        vertical-align: middle;\n",
       "    }\n",
       "\n",
       "    .dataframe tbody tr th {\n",
       "        vertical-align: top;\n",
       "    }\n",
       "\n",
       "    .dataframe thead th {\n",
       "        text-align: right;\n",
       "    }\n",
       "</style>\n",
       "<table border=\"1\" class=\"dataframe\">\n",
       "  <thead>\n",
       "    <tr style=\"text-align: right;\">\n",
       "      <th></th>\n",
       "      <th>y_labels</th>\n",
       "    </tr>\n",
       "  </thead>\n",
       "  <tbody>\n",
       "    <tr>\n",
       "      <th>0</th>\n",
       "      <td>1</td>\n",
       "    </tr>\n",
       "    <tr>\n",
       "      <th>1</th>\n",
       "      <td>1</td>\n",
       "    </tr>\n",
       "    <tr>\n",
       "      <th>2</th>\n",
       "      <td>1</td>\n",
       "    </tr>\n",
       "    <tr>\n",
       "      <th>3</th>\n",
       "      <td>1</td>\n",
       "    </tr>\n",
       "    <tr>\n",
       "      <th>4</th>\n",
       "      <td>1</td>\n",
       "    </tr>\n",
       "    <tr>\n",
       "      <th>5</th>\n",
       "      <td>1</td>\n",
       "    </tr>\n",
       "    <tr>\n",
       "      <th>6</th>\n",
       "      <td>1</td>\n",
       "    </tr>\n",
       "    <tr>\n",
       "      <th>7</th>\n",
       "      <td>1</td>\n",
       "    </tr>\n",
       "    <tr>\n",
       "      <th>8</th>\n",
       "      <td>1</td>\n",
       "    </tr>\n",
       "    <tr>\n",
       "      <th>9</th>\n",
       "      <td>1</td>\n",
       "    </tr>\n",
       "    <tr>\n",
       "      <th>10</th>\n",
       "      <td>1</td>\n",
       "    </tr>\n",
       "    <tr>\n",
       "      <th>11</th>\n",
       "      <td>1</td>\n",
       "    </tr>\n",
       "    <tr>\n",
       "      <th>12</th>\n",
       "      <td>0</td>\n",
       "    </tr>\n",
       "    <tr>\n",
       "      <th>13</th>\n",
       "      <td>0</td>\n",
       "    </tr>\n",
       "    <tr>\n",
       "      <th>14</th>\n",
       "      <td>0</td>\n",
       "    </tr>\n",
       "    <tr>\n",
       "      <th>15</th>\n",
       "      <td>0</td>\n",
       "    </tr>\n",
       "    <tr>\n",
       "      <th>16</th>\n",
       "      <td>0</td>\n",
       "    </tr>\n",
       "    <tr>\n",
       "      <th>17</th>\n",
       "      <td>0</td>\n",
       "    </tr>\n",
       "    <tr>\n",
       "      <th>18</th>\n",
       "      <td>0</td>\n",
       "    </tr>\n",
       "    <tr>\n",
       "      <th>19</th>\n",
       "      <td>0</td>\n",
       "    </tr>\n",
       "    <tr>\n",
       "      <th>20</th>\n",
       "      <td>0</td>\n",
       "    </tr>\n",
       "    <tr>\n",
       "      <th>21</th>\n",
       "      <td>0</td>\n",
       "    </tr>\n",
       "    <tr>\n",
       "      <th>22</th>\n",
       "      <td>0</td>\n",
       "    </tr>\n",
       "    <tr>\n",
       "      <th>23</th>\n",
       "      <td>0</td>\n",
       "    </tr>\n",
       "  </tbody>\n",
       "</table>\n",
       "</div>"
      ],
      "text/plain": [
       "    y_labels\n",
       "0          1\n",
       "1          1\n",
       "2          1\n",
       "3          1\n",
       "4          1\n",
       "5          1\n",
       "6          1\n",
       "7          1\n",
       "8          1\n",
       "9          1\n",
       "10         1\n",
       "11         1\n",
       "12         0\n",
       "13         0\n",
       "14         0\n",
       "15         0\n",
       "16         0\n",
       "17         0\n",
       "18         0\n",
       "19         0\n",
       "20         0\n",
       "21         0\n",
       "22         0\n",
       "23         0"
      ]
     },
     "execution_count": 30,
     "metadata": {},
     "output_type": "execute_result"
    },
    {
     "data": {
      "image/png": "[encoded data removed]",
      "text/plain": [
       "<Figure size 432x288 with 1 Axes>"
      ]
     },
     "metadata": {
      "needs_background": "light"
     },
     "output_type": "display_data"
    }
   ],
   "source": [
    "import pandas as pd\n",
    "\n",
    "losses = pd.DataFrame(model.history.history)\n",
    "losses.plot()\n",
    "\n",
    "df = pd.read_csv('C:/Users/MANDEEP SINGH SHERRY/Desktop/y_labels.csv')\n",
    "df"
   ]
  },
  {
   "cell_type": "code",
   "execution_count": 31,
   "metadata": {},
   "outputs": [],
   "source": [
    "# make a prediction for a new image.\n",
    "from keras.preprocessing.image import load_img\n",
    "from keras.preprocessing.image import img_to_array"
   ]
  },
  {
   "cell_type": "code",
   "execution_count": 19,
   "metadata": {},
   "outputs": [
    {
     "ename": "FileNotFoundError",
     "evalue": "[Errno 2] No such file or directory: 'b4.jpg'",
     "output_type": "error",
     "traceback": [
      "\u001b[1;31m---------------------------------------------------------------------------\u001b[0m",
      "\u001b[1;31mFileNotFoundError\u001b[0m                         Traceback (most recent call last)",
      "\u001b[1;32m<ipython-input-19-0cf641050c4c>\u001b[0m in \u001b[0;36m<module>\u001b[1;34m\u001b[0m\n\u001b[0;32m      1\u001b[0m \u001b[1;31m# load the image\u001b[0m\u001b[1;33m\u001b[0m\u001b[1;33m\u001b[0m\u001b[1;33m\u001b[0m\u001b[0m\n\u001b[1;32m----> 2\u001b[1;33m \u001b[0mimg\u001b[0m \u001b[1;33m=\u001b[0m \u001b[0mload_img\u001b[0m\u001b[1;33m(\u001b[0m\u001b[1;34m'b4.jpg'\u001b[0m\u001b[1;33m,\u001b[0m \u001b[0mtarget_size\u001b[0m\u001b[1;33m=\u001b[0m\u001b[1;33m(\u001b[0m\u001b[1;36m32\u001b[0m\u001b[1;33m,\u001b[0m \u001b[1;36m32\u001b[0m\u001b[1;33m)\u001b[0m\u001b[1;33m)\u001b[0m\u001b[1;33m\u001b[0m\u001b[1;33m\u001b[0m\u001b[0m\n\u001b[0m\u001b[0;32m      3\u001b[0m \u001b[1;31m# convert to array\u001b[0m\u001b[1;33m\u001b[0m\u001b[1;33m\u001b[0m\u001b[1;33m\u001b[0m\u001b[0m\n\u001b[0;32m      4\u001b[0m \u001b[0mimg\u001b[0m \u001b[1;33m=\u001b[0m \u001b[0mimg_to_array\u001b[0m\u001b[1;33m(\u001b[0m\u001b[0mimg\u001b[0m\u001b[1;33m)\u001b[0m\u001b[1;33m\u001b[0m\u001b[1;33m\u001b[0m\u001b[0m\n\u001b[0;32m      5\u001b[0m \u001b[1;31m# reshape into a single sample with 3 channels\u001b[0m\u001b[1;33m\u001b[0m\u001b[1;33m\u001b[0m\u001b[1;33m\u001b[0m\u001b[0m\n",
      "\u001b[1;32m~\\Anaconda3\\lib\\site-packages\\tensorflow\\python\\keras\\preprocessing\\image.py\u001b[0m in \u001b[0;36mload_img\u001b[1;34m(path, grayscale, color_mode, target_size, interpolation)\u001b[0m\n\u001b[0;32m    299\u001b[0m   \"\"\"\n\u001b[0;32m    300\u001b[0m   return image.load_img(path, grayscale=grayscale, color_mode=color_mode,\n\u001b[1;32m--> 301\u001b[1;33m                         target_size=target_size, interpolation=interpolation)\n\u001b[0m\u001b[0;32m    302\u001b[0m \u001b[1;33m\u001b[0m\u001b[0m\n\u001b[0;32m    303\u001b[0m \u001b[1;33m\u001b[0m\u001b[0m\n",
      "\u001b[1;32m~\\Anaconda3\\lib\\site-packages\\keras_preprocessing\\image\\utils.py\u001b[0m in \u001b[0;36mload_img\u001b[1;34m(path, grayscale, color_mode, target_size, interpolation)\u001b[0m\n\u001b[0;32m    111\u001b[0m         raise ImportError('Could not import PIL.Image. '\n\u001b[0;32m    112\u001b[0m                           'The use of `load_img` requires PIL.')\n\u001b[1;32m--> 113\u001b[1;33m     \u001b[1;32mwith\u001b[0m \u001b[0mopen\u001b[0m\u001b[1;33m(\u001b[0m\u001b[0mpath\u001b[0m\u001b[1;33m,\u001b[0m \u001b[1;34m'rb'\u001b[0m\u001b[1;33m)\u001b[0m \u001b[1;32mas\u001b[0m \u001b[0mf\u001b[0m\u001b[1;33m:\u001b[0m\u001b[1;33m\u001b[0m\u001b[1;33m\u001b[0m\u001b[0m\n\u001b[0m\u001b[0;32m    114\u001b[0m         \u001b[0mimg\u001b[0m \u001b[1;33m=\u001b[0m \u001b[0mpil_image\u001b[0m\u001b[1;33m.\u001b[0m\u001b[0mopen\u001b[0m\u001b[1;33m(\u001b[0m\u001b[0mio\u001b[0m\u001b[1;33m.\u001b[0m\u001b[0mBytesIO\u001b[0m\u001b[1;33m(\u001b[0m\u001b[0mf\u001b[0m\u001b[1;33m.\u001b[0m\u001b[0mread\u001b[0m\u001b[1;33m(\u001b[0m\u001b[1;33m)\u001b[0m\u001b[1;33m)\u001b[0m\u001b[1;33m)\u001b[0m\u001b[1;33m\u001b[0m\u001b[1;33m\u001b[0m\u001b[0m\n\u001b[0;32m    115\u001b[0m         \u001b[1;32mif\u001b[0m \u001b[0mcolor_mode\u001b[0m \u001b[1;33m==\u001b[0m \u001b[1;34m'grayscale'\u001b[0m\u001b[1;33m:\u001b[0m\u001b[1;33m\u001b[0m\u001b[1;33m\u001b[0m\u001b[0m\n",
      "\u001b[1;31mFileNotFoundError\u001b[0m: [Errno 2] No such file or directory: 'b4.jpg'"
     ]
    }
   ],
   "source": [
    "# load the image\n",
    "img = load_img('b4.jpg', target_size=(32, 32))\n",
    "# convert to array\n",
    "img = img_to_array(img)\n",
    "# reshape into a single sample with 3 channels\n",
    "img = img.reshape(1,32, 32, 3)\n",
    "# prepare pixel data\n",
    "img = img.astype('float32')\n",
    "img = img / 255.0"
   ]
  },
  {
   "cell_type": "code",
   "execution_count": 16,
   "metadata": {},
   "outputs": [
    {
     "ename": "NameError",
     "evalue": "name 'img' is not defined",
     "output_type": "error",
     "traceback": [
      "\u001b[1;31m---------------------------------------------------------------------------\u001b[0m",
      "\u001b[1;31mNameError\u001b[0m                                 Traceback (most recent call last)",
      "\u001b[1;32m<ipython-input-16-e00a393d08e1>\u001b[0m in \u001b[0;36m<module>\u001b[1;34m\u001b[0m\n\u001b[1;32m----> 1\u001b[1;33m \u001b[0mresult\u001b[0m \u001b[1;33m=\u001b[0m \u001b[0mmodel\u001b[0m\u001b[1;33m.\u001b[0m\u001b[0mpredict_classes\u001b[0m\u001b[1;33m(\u001b[0m\u001b[0mimg\u001b[0m\u001b[1;33m)\u001b[0m\u001b[1;33m\u001b[0m\u001b[1;33m\u001b[0m\u001b[0m\n\u001b[0m\u001b[0;32m      2\u001b[0m \u001b[0mprint\u001b[0m\u001b[1;33m(\u001b[0m\u001b[0mresult\u001b[0m\u001b[1;33m)\u001b[0m\u001b[1;33m\u001b[0m\u001b[1;33m\u001b[0m\u001b[0m\n",
      "\u001b[1;31mNameError\u001b[0m: name 'img' is not defined"
     ]
    }
   ],
   "source": [
    "result = model.predict_classes(img)\n",
    "print(result)"
   ]
  },
  {
   "cell_type": "code",
   "execution_count": null,
   "metadata": {},
   "outputs": [],
   "source": []
  }
 ],
 "metadata": {
  "kernelspec": {
   "display_name": "Python 3",
   "language": "python",
   "name": "python3"
  },
  "language_info": {
   "codemirror_mode": {
    "name": "ipython",
    "version": 3
   },
   "file_extension": ".py",
   "mimetype": "text/x-python",
   "name": "python",
   "nbconvert_exporter": "python",
   "pygments_lexer": "ipython3",
   "version": "3.7.1"
  }
 },
 "nbformat": 4,
 "nbformat_minor": 4
}
