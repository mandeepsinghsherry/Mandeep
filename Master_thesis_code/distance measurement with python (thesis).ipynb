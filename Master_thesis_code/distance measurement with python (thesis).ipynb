{
 "cells": [
  {
   "cell_type": "code",
   "execution_count": 8,
   "metadata": {},
   "outputs": [
    {
     "ename": "KeyboardInterrupt",
     "evalue": "",
     "output_type": "error",
     "traceback": [
      "\u001b[1;31m---------------------------------------------------------------------------\u001b[0m",
      "\u001b[1;31mKeyboardInterrupt\u001b[0m                         Traceback (most recent call last)",
      "\u001b[1;32m<ipython-input-8-1bb9a9274c2c>\u001b[0m in \u001b[0;36m<module>\u001b[1;34m\u001b[0m\n\u001b[0;32m     49\u001b[0m \t\t2.0, (0, 255, 0), 3)\n\u001b[0;32m     50\u001b[0m         \u001b[0mcv2\u001b[0m\u001b[1;33m.\u001b[0m\u001b[0mimshow\u001b[0m\u001b[1;33m(\u001b[0m\u001b[1;34m\"image\"\u001b[0m\u001b[1;33m,\u001b[0m \u001b[0mimage\u001b[0m\u001b[1;33m)\u001b[0m\u001b[1;33m\u001b[0m\u001b[1;33m\u001b[0m\u001b[0m\n\u001b[1;32m---> 51\u001b[1;33m         \u001b[0mcv2\u001b[0m\u001b[1;33m.\u001b[0m\u001b[0mwaitKey\u001b[0m\u001b[1;33m(\u001b[0m\u001b[1;36m0\u001b[0m\u001b[1;33m)\u001b[0m\u001b[1;33m\u001b[0m\u001b[1;33m\u001b[0m\u001b[0m\n\u001b[0m",
      "\u001b[1;31mKeyboardInterrupt\u001b[0m: "
     ]
    }
   ],
   "source": [
    "# import the necessary packages\n",
    "from imutils import paths\n",
    "import numpy as np\n",
    "import imutils\n",
    "import cv2\n",
    "def find_marker(image):\n",
    "\t# convert the image to grayscale, blur it, and detect edges\n",
    "\tgray = cv2.cvtColor(image, cv2.COLOR_BGR2GRAY)\n",
    "\tgray = cv2.GaussianBlur(gray, (5, 5), 0)\n",
    "\tedged = cv2.Canny(gray, 35, 125)\n",
    "\t# find the contours in the edged image and keep the largest one;\n",
    "\t# we'll assume that this is our piece of paper in the image\n",
    "\tcnts = cv2.findContours(edged.copy(), cv2.RETR_LIST, cv2.CHAIN_APPROX_SIMPLE)\n",
    "\tcnts = imutils.grab_contours(cnts)\n",
    "\tc = max(cnts, key = cv2.contourArea)\n",
    "\t# compute the bounding box of the of the paper region and return it\n",
    "\treturn cv2.minAreaRect(c)\n",
    "\n",
    "def distance_to_camera(knownWidth, focalLength, perWidth):\n",
    "\t# compute and return the distance from the maker to the camera\n",
    "\treturn (knownWidth * focalLength) / perWidth\n",
    "\n",
    "# initialize the known distance from the camera to the object, which\n",
    "# in this case is 24 inches\n",
    "KNOWN_DISTANCE = 24.0\n",
    "# initialize the known object width, which in this case, the piece of\n",
    "# paper is 12 inches wide\n",
    "KNOWN_WIDTH = 11.0\n",
    "# load the furst image that contains an object that is KNOWN TO BE 2 feet\n",
    "# from our camera, then find the paper marker in the image, and initialize\n",
    "# the focal length\n",
    "image = cv2.imread(\"C:/Users/MANDEEP SINGH SHERRY/Desktop/practise/chair4444.jpg\")\n",
    "marker = find_marker(image)\n",
    "focalLength = (marker[1][0] * KNOWN_DISTANCE) / KNOWN_WIDTH\n",
    "\n",
    "# loop over the images\n",
    "for imagePath in sorted(paths.list_images(\"C:/Users/MANDEEP SINGH SHERRY/Desktop/chair\")):\n",
    "\t# load the image, find the marker in the image, then compute the\n",
    "\t# distance to the marker from the camera\n",
    "\timage = cv2.imread(imagePath)\n",
    "\tmarker = find_marker(image)\n",
    "\tinches = distance_to_camera(KNOWN_WIDTH, focalLength, marker[1][0])\n",
    "\t# draw a bounding box around the image and display it\n",
    "\tbox = cv2.cv.BoxPoints(marker) if imutils.is_cv2() else cv2.boxPoints(marker)\n",
    "\tbox = np.int0(box)\n",
    "\tcv2.drawContours(image, [box], -1, (0, 255, 0), 2)\n",
    "\tcv2.putText(image, \"%.2fft\" % (inches / 12),\n",
    "\t\t(image.shape[1] - 200, image.shape[0] - 20), cv2.FONT_HERSHEY_SIMPLEX,\n",
    "\t\t2.0, (0, 255, 0), 3)\n",
    "\tcv2.imshow(\"image\", image)\n",
    "\tcv2.waitKey(0)"
   ]
  },
  {
   "cell_type": "code",
   "execution_count": null,
   "metadata": {},
   "outputs": [],
   "source": []
  }
 ],
 "metadata": {
  "kernelspec": {
   "display_name": "Python 3",
   "language": "python",
   "name": "python3"
  },
  "language_info": {
   "codemirror_mode": {
    "name": "ipython",
    "version": 3
   },
   "file_extension": ".py",
   "mimetype": "text/x-python",
   "name": "python",
   "nbconvert_exporter": "python",
   "pygments_lexer": "ipython3",
   "version": "3.8.5"
  }
 },
 "nbformat": 4,
 "nbformat_minor": 4
}
