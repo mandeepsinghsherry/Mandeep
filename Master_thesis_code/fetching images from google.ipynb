{
 "cells": [
  {
   "cell_type": "code",
   "execution_count": 7,
   "metadata": {},
   "outputs": [
    {
     "name": "stdout",
     "output_type": "stream",
     "text": [
      "\n",
      "Item no.: 1 --> Item name = C:/Users/MANDEEP SINGH SHERRY/Desktop/fun\n",
      "Evaluating...\n",
      "Starting Download...\n",
      "\n",
      "\n",
      "Unfortunately all 4 could not be downloaded because some images were not downloadable. 0 is all we got for this search filter!\n",
      "\n",
      "Errors: 0\n",
      "\n",
      "\n"
     ]
    }
   ],
   "source": [
    "# importing google_images_download module \n",
    "from google_images_download import google_images_download \n",
    "\n",
    "# creating object \n",
    "response = google_images_download.googleimagesdownload() \n",
    "\n",
    "search_queries =['https://www.google.com/search?q=santa+claus&tbm=isch&ved=2ahUKEwjqlpOQtcHvAhWDvKQKHZ4mCUoQ2-cCegQIABAA&oq=santa+claus&gs_lcp=CgNpbWcQAzICCAAyAggAMgIIADICCAAyAggAMgIIADICCAAyAggAMgIIADICCAA6BAgAEENQ0NIVWJXxFWCq8hVoAHAAeAOAAY0CiAH3DpIBBjExLjMuMpgBAKABAaoBC2d3cy13aXotaW1nsAEAwAEB&sclient=img&ei=2T9XYKrGH4P5kgWezaTQBA&bih=722&biw=1536'] \n",
    "\n",
    "\n",
    "def downloadimages(query): \n",
    "\t# keywords is the search query \n",
    "\t# format is the image file format \n",
    "\t# limit is the number of images to be downloaded \n",
    "\t# print urs is to print the image file url \n",
    "\t# size is the image size which can \n",
    "\t# be specified manually (\"large, medium, icon\") \n",
    "\t# aspect ratio denotes the height width ratio \n",
    "\t# of images to download. (\"tall, square, wide, panoramic\") \n",
    "\targuments = {\"keywords\": query, \n",
    "\t\t\t\t\"format\": \"jpg\", \n",
    "\t\t\t\t\"limit\":4, \n",
    "\t\t\t\t\"print_urls\":True, \n",
    "\t\t\t\t\"size\": \"medium\", \n",
    "\t\t\t\t\"aspect_ratio\":\"panoramic\"} \n",
    "\ttry: \n",
    "\t\tresponse.download(arguments) \n",
    "\t\n",
    "\t# Handling File NotFound Error\t \n",
    "\texcept FileNotFoundError: \n",
    "\t\targuments = {\"keywords\": query, \n",
    "\t\t\t\t\t\"format\": \"jpg\", \n",
    "\t\t\t\t\t\"limit\":4, \n",
    "\t\t\t\t\t\"print_urls\":True, \n",
    "\t\t\t\t\t\"size\": \"medium\"} \n",
    "\t\t\t\t\t\n",
    "\t\t# Providing arguments for the searched query \n",
    "\t\ttry: \n",
    "\t\t\t# Downloading the photos based \n",
    "\t\t\t# on the given arguments \n",
    "\t\t\tresponse.download(arguments) \n",
    "\t\texcept: \n",
    "\t\t\tpass\n",
    "\n",
    "# Driver Code \n",
    "for query in search_queries: \n",
    "\tdownloadimages('C:/Users/MANDEEP SINGH SHERRY/Desktop/fun') \n",
    "\tprint() \n"
   ]
  },
  {
   "cell_type": "code",
   "execution_count": null,
   "metadata": {},
   "outputs": [],
   "source": []
  }
 ],
 "metadata": {
  "kernelspec": {
   "display_name": "Python 3",
   "language": "python",
   "name": "python3"
  },
  "language_info": {
   "codemirror_mode": {
    "name": "ipython",
    "version": 3
   },
   "file_extension": ".py",
   "mimetype": "text/x-python",
   "name": "python",
   "nbconvert_exporter": "python",
   "pygments_lexer": "ipython3",
   "version": "3.7.1"
  }
 },
 "nbformat": 4,
 "nbformat_minor": 4
}
