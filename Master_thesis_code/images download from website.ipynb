{
 "cells": [
  {
   "cell_type": "code",
   "execution_count": 1,
   "metadata": {},
   "outputs": [],
   "source": [
    "#https://www.thepythoncode.com/article/download-web-page-images-python\n",
    "\n",
    "\n",
    "import requests\n",
    "import os\n",
    "from tqdm import tqdm\n",
    "from bs4 import BeautifulSoup as bs\n",
    "from urllib.parse import urljoin, urlparse"
   ]
  },
  {
   "cell_type": "code",
   "execution_count": 2,
   "metadata": {},
   "outputs": [
    {
     "name": "stderr",
     "output_type": "stream",
     "text": [
      "Extracting images: 100%|████████████████████████████████████████████████████████████| 21/21 [00:00<00:00, 13797.05it/s]\n",
      "Downloading yandex-images_opticals\\googlelogo_desk_heirloom_color_150x55dp.gif:   0%| | 2.00/1.90k [00:00<00:05, 353B/s\n",
      "Downloading yandex-images_opticals\\images:   0%|                                            | 0.00/43.0 [00:00<?, ?B/s]"
     ]
    },
    {
     "name": "stdout",
     "output_type": "stream",
     "text": [
      "https://www.google.com/images/branding/searchlogo/1x/googlelogo_desk_heirloom_color_150x55dp.gif\n",
      "https://encrypted-tbn0.gstatic.com/images?q=tbn:ANd9GcR_QYXkavH4oUNIDlxkZB1gV37KJIoqz36OhZ9ruK9vL2NWjcSt-Xvh7zWZ9w&s\n",
      "https://encrypted-tbn0.gstatic.com/images?q=tbn:ANd9GcRUcXD96CS2V5ePKsFyC6hBDQclZrXqtsPb62YLt1JkjANvC86T0xfzdM-abiI&s\n",
      "https://encrypted-tbn0.gstatic.com/images?q=tbn:ANd9GcTWiZsVPlAr_VX2F6lCbaqiYD3ofcdbson3XUuXz3dxTRKcsC8OFi1nt8pSPg&s\n",
      "https://encrypted-tbn0.gstatic.com/images?q=tbn:ANd9GcSn0r3AuLG4YfcRJMfRztgGrPYDBMusB90j5juU2UnSn5QNXob8CT3T1Bw33Zk&s\n",
      "https://encrypted-tbn0.gstatic.com/images?q=tbn:ANd9GcQ52lMYNQ-Vruf6_plvbuRW4IcddK5JKZOL8vK6QkQCNCEmNt6X7mPHvjWzpTo&s\n",
      "https://encrypted-tbn0.gstatic.com/images?q=tbn:ANd9GcS3kZeVSiLv2nitkkkJsXZxsJIwvNTshasBnqxdGsfTHJmbOq97oZi1R6GFBPg&s\n",
      "https://encrypted-tbn0.gstatic.com/images?q=tbn:ANd9GcRbuO7QdVJW36C-32J07Ok_ge7ENnAdVCBLG3WRnhHugERZpbdydiv5xOMGMH8&s\n",
      "https://encrypted-tbn0.gstatic.com/images?q=tbn:ANd9GcRX01PfQT_CEP0Z9tYg_B-BMlfpBqbzGl_7JaytDGQAHuh0rzYReECu6Sz4Vns&s\n",
      "https://encrypted-tbn0.gstatic.com/images?q=tbn:ANd9GcSUnfl_vHIomii0U_102pIjt2V-X4-F4404c3Lj04llOmmcO7Ihqg9g01BGOmw&s\n",
      "https://encrypted-tbn0.gstatic.com/images?q=tbn:ANd9GcQlZOLylAzqkva3ZCGh9VjP_0QA5qulboxdLV3GCbAGZXEIRF-a3TH9jKhuFw&s\n",
      "https://encrypted-tbn0.gstatic.com/images?q=tbn:ANd9GcSJ9jvQkieCpF31ZnYLxyRCFduOc_RPol4PY23wk0IkUKK-4BD5uwSvb7p8dN8&s\n",
      "https://encrypted-tbn0.gstatic.com/images?q=tbn:ANd9GcS207kDBtwfJHrgh6zrF6bEt4vfwrmskVUjQSqqPMFXdnk3KEANs0FcEZ8vSb0&s\n",
      "https://encrypted-tbn0.gstatic.com/images?q=tbn:ANd9GcRvdYVGUB9e-fW9NbZb8Sca3Z99Fk9uPDgiGkHb-OzkYGBdaX_K4Oh9Zp6xTOY&s\n",
      "https://encrypted-tbn0.gstatic.com/images?q=tbn:ANd9GcQW0zRfiUNng_VItHamai_q8sVkpD9DuNuJjCqbuZP0tMI3RawO7ixCVSeOT9c&s\n",
      "https://encrypted-tbn0.gstatic.com/images?q=tbn:ANd9GcTidC3L_493Y8YjxAw9M9oBx9OJnYYGqtgHBpvLsua10S02dxyx9eSshf3xzR4&s\n",
      "https://encrypted-tbn0.gstatic.com/images?q=tbn:ANd9GcRNDX9kYw7GM6W0fKvp_PR2_MvWSPb5AyQIC76zL62-3jv8cOJtCwlKghEusBE&s\n",
      "https://encrypted-tbn0.gstatic.com/images?q=tbn:ANd9GcS-lUhCOYLOCFmIoPBkaQVRpIsE-Li8XC8VhnARFaOmm_MZ_5gIlgGS5glImA&s\n",
      "https://encrypted-tbn0.gstatic.com/images?q=tbn:ANd9GcQfpl_PCdIOEv3i8W8-zBIRoOwTQ_opCEDinIkxfDBLnbNpsA2CUwUky_UeAQ&s\n",
      "https://encrypted-tbn0.gstatic.com/images?q=tbn:ANd9GcTIreaYaNcIhmtIBAC8I1VAnBeJkJxEjuPDMaXO61DhmyJwF0EmxcB2nWDy_Wg&s\n",
      "https://encrypted-tbn0.gstatic.com/images?q=tbn:ANd9GcT_0PRtF2i5bZT34OTn-w6wRiHjj28ZBWQUweRaRXG9TeorBCHtlf2jHxEeMsw&s\n"
     ]
    },
    {
     "name": "stderr",
     "output_type": "stream",
     "text": [
      "Downloading yandex-images_opticals\\images:   2%|▉                                     | 1.00/43.0 [00:00<00:00, 196B/s]\n",
      "Downloading yandex-images_opticals\\images:   2%|▉                                     | 1.00/43.0 [00:00<00:00, 327B/s]\n",
      "Downloading yandex-images_opticals\\images:   2%|▉                                     | 1.00/43.0 [00:00<00:00, 195B/s]\n",
      "Downloading yandex-images_opticals\\images:   2%|▉                                     | 1.00/43.0 [00:00<00:00, 193B/s]\n",
      "Downloading yandex-images_opticals\\images:   2%|▉                                     | 1.00/43.0 [00:00<00:00, 279B/s]\n",
      "Downloading yandex-images_opticals\\images:   2%|▉                                     | 1.00/43.0 [00:00<00:00, 323B/s]\n",
      "Downloading yandex-images_opticals\\images:   2%|▉                                     | 1.00/43.0 [00:00<00:00, 393B/s]\n",
      "Downloading yandex-images_opticals\\images:   2%|▉                                     | 1.00/43.0 [00:00<00:00, 244B/s]\n",
      "Downloading yandex-images_opticals\\images:   2%|▉                                     | 1.00/43.0 [00:00<00:00, 276B/s]\n",
      "Downloading yandex-images_opticals\\images:   2%|▉                                     | 1.00/43.0 [00:00<00:00, 327B/s]\n",
      "Downloading yandex-images_opticals\\images:   2%|▉                                     | 1.00/43.0 [00:00<00:00, 327B/s]\n",
      "Downloading yandex-images_opticals\\images:   2%|▉                                     | 1.00/43.0 [00:00<00:00, 391B/s]\n",
      "Downloading yandex-images_opticals\\images:   2%|▉                                     | 1.00/43.0 [00:00<00:00, 327B/s]\n",
      "Downloading yandex-images_opticals\\images:   2%|▉                                     | 1.00/43.0 [00:00<00:00, 392B/s]\n",
      "Downloading yandex-images_opticals\\images:   2%|▉                                     | 1.00/43.0 [00:00<00:00, 277B/s]\n",
      "Downloading yandex-images_opticals\\images:   2%|▉                                     | 1.00/43.0 [00:00<00:00, 322B/s]\n",
      "Downloading yandex-images_opticals\\images:   2%|▉                                     | 1.00/43.0 [00:00<00:00, 243B/s]\n",
      "Downloading yandex-images_opticals\\images:   2%|▉                                     | 1.00/43.0 [00:00<00:00, 391B/s]\n",
      "Downloading yandex-images_opticals\\images:   2%|▉                                     | 1.00/43.0 [00:00<00:00, 327B/s]\n",
      "Downloading yandex-images_opticals\\images:   2%|▉                                     | 1.00/43.0 [00:00<00:00, 393B/s]\n"
     ]
    }
   ],
   "source": [
    "def is_valid(url):\n",
    "    \"\"\"\n",
    "    Checks whether `url` is a valid URL.\n",
    "    \"\"\"\n",
    "    parsed = urlparse(url)\n",
    "    return bool(parsed.netloc) and bool(parsed.scheme)\n",
    "\n",
    "\n",
    "def get_all_images(url):\n",
    "    \"\"\"\n",
    "    Returns all image URLs on a single `url`\n",
    "    \"\"\"\n",
    "    soup = bs(requests.get(url).content, \"html.parser\")\n",
    "    \n",
    "    urls = []\n",
    "    for img in tqdm(soup.find_all(\"img\"), \"Extracting images\"):\n",
    "        img_url = img.attrs.get(\"src\")\n",
    "        if not img_url:\n",
    "            # if img does not contain src attribute, just skip\n",
    "            continue\n",
    "            # make the URL absolute by joining domain with the URL that is just extracted\n",
    "        img_url = urljoin(url, img_url)\n",
    "        print(img_url)\n",
    "        try:\n",
    "            pos = img_url.index(\"?\")\n",
    "            img_url = img_url[:pos]\n",
    "        except ValueError:\n",
    "            pass\n",
    "           # finally, if the url is valid\n",
    "        if is_valid(img_url):\n",
    "            urls.append(img_url)\n",
    "    return urls\n",
    "\n",
    "def download(url, pathname):\n",
    "    \"\"\"\n",
    "    Downloads a file given an URL and puts it in the folder `pathname`\n",
    "    \"\"\"\n",
    "    # if path doesn't exist, make that path dir\n",
    "    if not os.path.isdir(pathname):\n",
    "        os.makedirs(pathname)\n",
    "    # download the body of response by chunk, not immediately\n",
    "    response = requests.get(url, stream=True)\n",
    "    # get the total file size\n",
    "    file_size = int(response.headers.get(\"Content-Length\", 0))\n",
    "    # get the file name\n",
    "    filename = os.path.join(pathname, url.split(\"/\")[-1])\n",
    "    # progress bar, changing the unit to bytes instead of iteration (default by tqdm)\n",
    "    progress = tqdm(response.iter_content(1024), f\"Downloading {filename}\", total=file_size, unit=\"B\", unit_scale=True, unit_divisor=1024)\n",
    "    with open(filename, \"wb\") as f:\n",
    "        for data in progress:\n",
    "            # write data read to the file\n",
    "            f.write(data)\n",
    "            # update the progress bar manually\n",
    "            progress.update(len(data))\n",
    "            \n",
    "            \n",
    "def main(url, path):\n",
    "    # get all images\n",
    "    imgs = get_all_images(url)\n",
    "    for img in imgs:\n",
    "        # for each image, download it\n",
    "        download(img, path)\n",
    "        \n",
    "main(\"https://www.google.com/search?q=santa+claus&tbm=isch&ved=2ahUKEwjqlpOQtcHvAhWDvKQKHZ4mCUoQ2-cCegQIABAA&oq=santa+claus&gs_lcp=CgNpbWcQAzICCAAyAggAMgIIADICCAAyAggAMgIIADICCAAyAggAMgIIADICCAA6BAgAEENQ0NIVWJXxFWCq8hVoAHAAeAOAAY0CiAH3DpIBBjExLjMuMpgBAKABAaoBC2d3cy13aXotaW1nsAEAwAEB&sclient=img&ei=2T9XYKrGH4P5kgWezaTQBA&bih=722&biw=1536\", \"yandex-images_opticals\")"
   ]
  },
  {
   "cell_type": "code",
   "execution_count": null,
   "metadata": {},
   "outputs": [],
   "source": []
  }
 ],
 "metadata": {
  "kernelspec": {
   "display_name": "Python 3",
   "language": "python",
   "name": "python3"
  },
  "language_info": {
   "codemirror_mode": {
    "name": "ipython",
    "version": 3
   },
   "file_extension": ".py",
   "mimetype": "text/x-python",
   "name": "python",
   "nbconvert_exporter": "python",
   "pygments_lexer": "ipython3",
   "version": "3.7.1"
  }
 },
 "nbformat": 4,
 "nbformat_minor": 4
}
