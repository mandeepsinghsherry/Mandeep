{
 "cells": [
  {
   "cell_type": "code",
   "execution_count": 1,
   "metadata": {},
   "outputs": [],
   "source": [
    "from sklearn.model_selection import train_test_split\n",
    "from sklearn.datasets import load_iris\n",
    "from sklearn.preprocessing import LabelEncoder\n",
    " \n",
    "import keras\n",
    "from keras.models import Sequential\n",
    "from keras.layers import Dense, Flatten, Conv1D, MaxPool1D, Dropout\n",
    " \n",
    "import matplotlib.pyplot as plt\n",
    " \n",
    "# load iris data\n",
    "iris = load_iris()\n",
    "x_train, x_test, y_train, y_test = train_test_split(iris.data, iris.target, test_size=0.33, random_state=1)\n",
    " \n",
    "# The known number of output classes.\n",
    "num_classes = 3\n",
    " \n",
    "#  label encoding\n",
    "encoder = LabelEncoder()\n",
    "y_train = encoder.fit_transform(y_train)\n",
    "y_test = encoder.fit_transform(y_test)\n",
    " \n",
    "# one hot encoding\n",
    "y_train = keras.utils.to_categorical(y_train, num_classes)\n",
    "y_test = keras.utils.to_categorical(y_test, num_classes)\n",
    " \n",
    "# reshape 2D to 3D\n",
    "x_train = x_train.reshape(100, 4, 1)\n",
    "x_test = x_test.reshape(50, 4, 1)\n",
    " \n"
   ]
  },
  {
   "cell_type": "code",
   "execution_count": 3,
   "metadata": {},
   "outputs": [
    {
     "name": "stdout",
     "output_type": "stream",
     "text": [
      "Model: \"sequential_1\"\n",
      "_________________________________________________________________\n",
      "Layer (type)                 Output Shape              Param #   \n",
      "=================================================================\n",
      "conv1d_1 (Conv1D)            (None, 3, 64)             192       \n",
      "_________________________________________________________________\n",
      "max_pooling1d_1 (MaxPooling1 (None, 1, 64)             0         \n",
      "_________________________________________________________________\n",
      "flatten_1 (Flatten)          (None, 64)                0         \n",
      "_________________________________________________________________\n",
      "dense_2 (Dense)              (None, 128)               8320      \n",
      "_________________________________________________________________\n",
      "dropout_1 (Dropout)          (None, 128)               0         \n",
      "_________________________________________________________________\n",
      "dense_3 (Dense)              (None, 3)                 387       \n",
      "=================================================================\n",
      "Total params: 8,899\n",
      "Trainable params: 8,899\n",
      "Non-trainable params: 0\n",
      "_________________________________________________________________\n",
      "Epoch 1/5\n",
      "1/1 - 0s - loss: 1.1774 - accuracy: 0.3600 - val_loss: 1.1294 - val_accuracy: 0.3400\n",
      "Epoch 2/5\n",
      "1/1 - 0s - loss: 1.1712 - accuracy: 0.3700 - val_loss: 1.1293 - val_accuracy: 0.3400\n",
      "Epoch 3/5\n",
      "1/1 - 0s - loss: 1.2141 - accuracy: 0.3300 - val_loss: 1.1292 - val_accuracy: 0.3400\n",
      "Epoch 4/5\n",
      "1/1 - 0s - loss: 1.1716 - accuracy: 0.4000 - val_loss: 1.1291 - val_accuracy: 0.3400\n",
      "Epoch 5/5\n",
      "1/1 - 0s - loss: 1.1368 - accuracy: 0.3900 - val_loss: 1.1290 - val_accuracy: 0.3400\n"
     ]
    },
    {
     "data": {
      "image/png": "[encoded data removed]",
      "text/plain": [
       "<Figure size 432x288 with 1 Axes>"
      ]
     },
     "metadata": {
      "needs_background": "light"
     },
     "output_type": "display_data"
    }
   ],
   "source": [
    "# build CNN model\n",
    "model = Sequential()\n",
    "model.add(Conv1D(64, 2, input_shape=(4, 1), activation='relu'))  # convolation\n",
    "model.add(MaxPool1D(pool_size=2))  # pooling\n",
    "model.add(Flatten())  # flatten\n",
    "model.add(Dense(128, activation='relu'))  # fc\n",
    "model.add(Dropout(0.3))  # dropout\n",
    "model.add(Dense(num_classes, activation='softmax'))\n",
    " \n",
    "# model compile\n",
    "model.compile(loss=keras.losses.categorical_crossentropy,\n",
    "              optimizer=keras.optimizers.Adadelta(),\n",
    "              metrics=['accuracy'])\n",
    "\n",
    "model.summary()\n",
    " \n",
    "batch_size = 128\n",
    "epochs = 5\n",
    "model = model.fit(x_train, y_train,\n",
    "                  batch_size=batch_size,\n",
    "                  epochs=epochs,\n",
    "                  verbose=2,\n",
    "                  validation_data=(x_test, y_test))\n",
    " \n",
    "# draw loss\n",
    "plt.plot(model.history['loss'])\n",
    "plt.plot(model.history['val_loss'])\n",
    "plt.title('model train vs validation loss')\n",
    "plt.ylabel('loss')\n",
    "plt.xlabel('epoch')\n",
    "plt.legend(['train', 'validation'], loc='upper right')\n",
    "plt.show()"
   ]
  },
  {
   "cell_type": "code",
   "execution_count": null,
   "metadata": {},
   "outputs": [],
   "source": []
  }
 ],
 "metadata": {
  "kernelspec": {
   "display_name": "Python 3",
   "language": "python",
   "name": "python3"
  },
  "language_info": {
   "codemirror_mode": {
    "name": "ipython",
    "version": 3
   },
   "file_extension": ".py",
   "mimetype": "text/x-python",
   "name": "python",
   "nbconvert_exporter": "python",
   "pygments_lexer": "ipython3",
   "version": "3.7.1"
  }
 },
 "nbformat": 4,
 "nbformat_minor": 4
}
