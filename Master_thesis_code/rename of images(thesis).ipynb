{
 "cells": [
  {
   "cell_type": "code",
   "execution_count": 8,
   "metadata": {},
   "outputs": [
    {
     "name": "stdout",
     "output_type": "stream",
     "text": [
      "['specs_laptop0.jpg', 'specs_laptop1.jpg', 'specs_laptop10.jpg', 'specs_laptop11.jpg', 'specs_laptop12.jpg', 'specs_laptop13.jpg', 'specs_laptop14.jpg', 'specs_laptop15.jpg', 'specs_laptop16.jpg', 'specs_laptop17.jpg', 'specs_laptop18.jpg', 'specs_laptop19.jpg', 'specs_laptop2.jpg', 'specs_laptop20.jpg', 'specs_laptop21.jpg', 'specs_laptop22.jpg', 'specs_laptop23.jpg', 'specs_laptop24.jpg', 'specs_laptop25.jpg', 'specs_laptop26.jpg', 'specs_laptop27.jpg', 'specs_laptop28.jpg', 'specs_laptop29.jpg', 'specs_laptop3.jpg', 'specs_laptop30.jpg', 'specs_laptop31.jpg', 'specs_laptop32.jpg', 'specs_laptop33.jpg', 'specs_laptop34.jpg', 'specs_laptop35.jpg', 'specs_laptop36.jpg', 'specs_laptop37.jpg', 'specs_laptop38.jpg', 'specs_laptop39.jpg', 'specs_laptop4.jpg', 'specs_laptop40.jpg', 'specs_laptop41.jpg', 'specs_laptop42.jpg', 'specs_laptop43.jpg', 'specs_laptop44.jpg', 'specs_laptop45.jpg', 'specs_laptop46.jpg', 'specs_laptop47.jpg', 'specs_laptop48.jpg', 'specs_laptop49.jpg', 'specs_laptop5.jpg', 'specs_laptop6.jpg', 'specs_laptop7.jpg', 'specs_laptop8.jpg', 'specs_laptop9.jpg']\n",
      "specs_laptop0.jpg\n",
      "specs_laptop1.jpg\n",
      "specs_laptop10.jpg\n"
     ]
    },
    {
     "ename": "FileExistsError",
     "evalue": "[WinError 183] Cannot create a file when that file already exists: 'c://Users/MANDEEP SINGH SHERRY/Desktop/fun/specs_laptop10.jpg' -> 'c://Users/MANDEEP SINGH SHERRY/Desktop/fun/specs_laptop2.jpg'",
     "output_type": "error",
     "traceback": [
      "\u001b[1;31m---------------------------------------------------------------------------\u001b[0m",
      "\u001b[1;31mFileExistsError\u001b[0m                           Traceback (most recent call last)",
      "\u001b[1;32m<ipython-input-8-995f21d72cde>\u001b[0m in \u001b[0;36m<module>\u001b[1;34m\u001b[0m\n\u001b[0;32m     25\u001b[0m \u001b[1;33m\u001b[0m\u001b[0m\n\u001b[0;32m     26\u001b[0m \u001b[1;31m# Calling main() function\u001b[0m\u001b[1;33m\u001b[0m\u001b[1;33m\u001b[0m\u001b[1;33m\u001b[0m\u001b[0m\n\u001b[1;32m---> 27\u001b[1;33m  \u001b[0mmain\u001b[0m\u001b[1;33m(\u001b[0m\u001b[1;33m)\u001b[0m\u001b[1;33m\u001b[0m\u001b[1;33m\u001b[0m\u001b[0m\n\u001b[0m",
      "\u001b[1;32m<ipython-input-8-995f21d72cde>\u001b[0m in \u001b[0;36mmain\u001b[1;34m()\u001b[0m\n\u001b[0;32m     19\u001b[0m         \u001b[1;31m# rename() function will\u001b[0m\u001b[1;33m\u001b[0m\u001b[1;33m\u001b[0m\u001b[1;33m\u001b[0m\u001b[0m\n\u001b[0;32m     20\u001b[0m         \u001b[1;31m# rename all the files\u001b[0m\u001b[1;33m\u001b[0m\u001b[1;33m\u001b[0m\u001b[1;33m\u001b[0m\u001b[0m\n\u001b[1;32m---> 21\u001b[1;33m         \u001b[0mos\u001b[0m\u001b[1;33m.\u001b[0m\u001b[0mrename\u001b[0m\u001b[1;33m(\u001b[0m\u001b[0msrc\u001b[0m\u001b[1;33m,\u001b[0m \u001b[0mdst\u001b[0m\u001b[1;33m)\u001b[0m\u001b[1;33m\u001b[0m\u001b[1;33m\u001b[0m\u001b[0m\n\u001b[0m\u001b[0;32m     22\u001b[0m \u001b[1;33m\u001b[0m\u001b[0m\n\u001b[0;32m     23\u001b[0m \u001b[1;31m# Driver Code\u001b[0m\u001b[1;33m\u001b[0m\u001b[1;33m\u001b[0m\u001b[1;33m\u001b[0m\u001b[0m\n",
      "\u001b[1;31mFileExistsError\u001b[0m: [WinError 183] Cannot create a file when that file already exists: 'c://Users/MANDEEP SINGH SHERRY/Desktop/fun/specs_laptop10.jpg' -> 'c://Users/MANDEEP SINGH SHERRY/Desktop/fun/specs_laptop2.jpg'"
     ]
    }
   ],
   "source": [
    "# Pythono3 code to rename multiple \n",
    "# files in a directory or folder \n",
    "\n",
    "# importing os module \n",
    "import os \n",
    "\n",
    "# Function to rename multiple files \n",
    "def main(): \n",
    "    path = \"c://Users/MANDEEP SINGH SHERRY/Desktop/fun/\"\n",
    "    \n",
    "    for count, filename in enumerate(sorted(os.listdir(path))): \n",
    "        # print(filename)\n",
    "        dst =\"specs_laptop\" + str(count) + \".jpg\"\n",
    "        src = path+ filename \n",
    "        dst = path+ dst \n",
    "\n",
    "        # rename() function will \n",
    "        # rename all the files \n",
    "        os.rename(src, dst) \n",
    "\n",
    "# Driver Code \n",
    "if __name__ == '__main__': \n",
    "\n",
    "# Calling main() function \n",
    " main() \n"
   ]
  },
  {
   "cell_type": "code",
   "execution_count": null,
   "metadata": {},
   "outputs": [],
   "source": []
  }
 ],
 "metadata": {
  "kernelspec": {
   "display_name": "Python 3",
   "language": "python",
   "name": "python3"
  },
  "language_info": {
   "codemirror_mode": {
    "name": "ipython",
    "version": 3
   },
   "file_extension": ".py",
   "mimetype": "text/x-python",
   "name": "python",
   "nbconvert_exporter": "python",
   "pygments_lexer": "ipython3",
   "version": "3.8.5"
  }
 },
 "nbformat": 4,
 "nbformat_minor": 4
}
