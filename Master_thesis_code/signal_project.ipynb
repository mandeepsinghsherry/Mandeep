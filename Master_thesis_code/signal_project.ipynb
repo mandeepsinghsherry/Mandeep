{
 "cells": [
  {
   "cell_type": "code",
   "execution_count": 3,
   "metadata": {},
   "outputs": [
    {
     "data": {
      "text/plain": [
       "'C:\\\\Users\\\\MANDEEP SINGH SHERRY'"
      ]
     },
     "execution_count": 3,
     "metadata": {},
     "output_type": "execute_result"
    }
   ],
   "source": [
    "import os\n",
    "os.getcwd()"
   ]
  },
  {
   "cell_type": "code",
   "execution_count": 91,
   "metadata": {},
   "outputs": [],
   "source": [
    "from glob import glob\n",
    "from tqdm import tqdm"
   ]
  },
  {
   "cell_type": "code",
   "execution_count": 77,
   "metadata": {},
   "outputs": [
    {
     "data": {
      "text/plain": [
       "(50, 3406)"
      ]
     },
     "execution_count": 77,
     "metadata": {},
     "output_type": "execute_result"
    }
   ],
   "source": [
    "df.shape"
   ]
  },
  {
   "cell_type": "code",
   "execution_count": 84,
   "metadata": {},
   "outputs": [],
   "source": [
    "from path import Path"
   ]
  },
  {
   "cell_type": "code",
   "execution_count": 90,
   "metadata": {},
   "outputs": [],
   "source": [
    "obj1_files = glob('Desktop\\Files for task 1 and task 6\\Object 1\\*')"
   ]
  },
  {
   "cell_type": "code",
   "execution_count": 95,
   "metadata": {},
   "outputs": [
    {
     "name": "stderr",
     "output_type": "stream",
     "text": [
      "100%|████████████████████████████████████████████████████████████████████████████████████| 9/9 [00:38<00:00,  4.24s/it]\n"
     ]
    }
   ],
   "source": [
    "df = pd.DataFrame()\n",
    "for i in tqdm(obj1_files):\n",
    "    df = pd.concat([df, pd.read_excel(i, header=None).iloc[:,6:]])"
   ]
  },
  {
   "cell_type": "code",
   "execution_count": 96,
   "metadata": {},
   "outputs": [],
   "source": [
    "df['label'] = 1"
   ]
  },
  {
   "cell_type": "code",
   "execution_count": 97,
   "metadata": {},
   "outputs": [
    {
     "data": {
      "text/plain": [
       "(315, 3401)"
      ]
     },
     "execution_count": 97,
     "metadata": {},
     "output_type": "execute_result"
    }
   ],
   "source": [
    "df.shape"
   ]
  },
  {
   "cell_type": "code",
   "execution_count": 98,
   "metadata": {},
   "outputs": [
    {
     "data": {
      "text/html": [
       "<div>\n",
       "<style scoped>\n",
       "    .dataframe tbody tr th:only-of-type {\n",
       "        vertical-align: middle;\n",
       "    }\n",
       "\n",
       "    .dataframe tbody tr th {\n",
       "        vertical-align: top;\n",
       "    }\n",
       "\n",
       "    .dataframe thead th {\n",
       "        text-align: right;\n",
       "    }\n",
       "</style>\n",
       "<table border=\"1\" class=\"dataframe\">\n",
       "  <thead>\n",
       "    <tr style=\"text-align: right;\">\n",
       "      <th></th>\n",
       "      <th>6</th>\n",
       "      <th>7</th>\n",
       "      <th>8</th>\n",
       "      <th>9</th>\n",
       "      <th>10</th>\n",
       "      <th>11</th>\n",
       "      <th>12</th>\n",
       "      <th>13</th>\n",
       "      <th>14</th>\n",
       "      <th>15</th>\n",
       "      <th>...</th>\n",
       "      <th>3397</th>\n",
       "      <th>3398</th>\n",
       "      <th>3399</th>\n",
       "      <th>3400</th>\n",
       "      <th>3401</th>\n",
       "      <th>3402</th>\n",
       "      <th>3403</th>\n",
       "      <th>3404</th>\n",
       "      <th>3405</th>\n",
       "      <th>label</th>\n",
       "    </tr>\n",
       "  </thead>\n",
       "  <tbody>\n",
       "    <tr>\n",
       "      <th>0</th>\n",
       "      <td>0.000384</td>\n",
       "      <td>0.000640</td>\n",
       "      <td>0.001408</td>\n",
       "      <td>0.001792</td>\n",
       "      <td>0.001408</td>\n",
       "      <td>0.001280</td>\n",
       "      <td>0.001920</td>\n",
       "      <td>0.002304</td>\n",
       "      <td>0.001920</td>\n",
       "      <td>0.002688</td>\n",
       "      <td>...</td>\n",
       "      <td>-0.010879</td>\n",
       "      <td>-0.011519</td>\n",
       "      <td>-0.011391</td>\n",
       "      <td>-0.011647</td>\n",
       "      <td>-0.011775</td>\n",
       "      <td>-0.011391</td>\n",
       "      <td>-0.011263</td>\n",
       "      <td>-0.010623</td>\n",
       "      <td>-0.009215</td>\n",
       "      <td>1</td>\n",
       "    </tr>\n",
       "    <tr>\n",
       "      <th>1</th>\n",
       "      <td>-0.003712</td>\n",
       "      <td>-0.003968</td>\n",
       "      <td>-0.004608</td>\n",
       "      <td>-0.004992</td>\n",
       "      <td>-0.005632</td>\n",
       "      <td>-0.006016</td>\n",
       "      <td>-0.006271</td>\n",
       "      <td>-0.006016</td>\n",
       "      <td>-0.006399</td>\n",
       "      <td>-0.006271</td>\n",
       "      <td>...</td>\n",
       "      <td>-0.006271</td>\n",
       "      <td>-0.006016</td>\n",
       "      <td>-0.005760</td>\n",
       "      <td>-0.004864</td>\n",
       "      <td>-0.003840</td>\n",
       "      <td>-0.002816</td>\n",
       "      <td>-0.002176</td>\n",
       "      <td>-0.001920</td>\n",
       "      <td>-0.001792</td>\n",
       "      <td>1</td>\n",
       "    </tr>\n",
       "    <tr>\n",
       "      <th>2</th>\n",
       "      <td>-0.000640</td>\n",
       "      <td>-0.000512</td>\n",
       "      <td>-0.000768</td>\n",
       "      <td>-0.000640</td>\n",
       "      <td>-0.000768</td>\n",
       "      <td>0.000000</td>\n",
       "      <td>-0.000256</td>\n",
       "      <td>-0.000256</td>\n",
       "      <td>-0.000768</td>\n",
       "      <td>-0.001024</td>\n",
       "      <td>...</td>\n",
       "      <td>-0.006911</td>\n",
       "      <td>-0.006911</td>\n",
       "      <td>-0.006783</td>\n",
       "      <td>-0.006911</td>\n",
       "      <td>-0.006399</td>\n",
       "      <td>-0.006016</td>\n",
       "      <td>-0.005376</td>\n",
       "      <td>-0.004352</td>\n",
       "      <td>-0.003328</td>\n",
       "      <td>1</td>\n",
       "    </tr>\n",
       "    <tr>\n",
       "      <th>3</th>\n",
       "      <td>-0.001152</td>\n",
       "      <td>-0.000896</td>\n",
       "      <td>-0.000384</td>\n",
       "      <td>0.000128</td>\n",
       "      <td>0.000000</td>\n",
       "      <td>-0.000128</td>\n",
       "      <td>-0.000768</td>\n",
       "      <td>-0.001280</td>\n",
       "      <td>-0.001280</td>\n",
       "      <td>-0.000896</td>\n",
       "      <td>...</td>\n",
       "      <td>0.013183</td>\n",
       "      <td>0.013695</td>\n",
       "      <td>0.013951</td>\n",
       "      <td>0.014463</td>\n",
       "      <td>0.014463</td>\n",
       "      <td>0.014335</td>\n",
       "      <td>0.013823</td>\n",
       "      <td>0.013311</td>\n",
       "      <td>0.012159</td>\n",
       "      <td>1</td>\n",
       "    </tr>\n",
       "    <tr>\n",
       "      <th>4</th>\n",
       "      <td>-0.002176</td>\n",
       "      <td>-0.001920</td>\n",
       "      <td>-0.001024</td>\n",
       "      <td>-0.000640</td>\n",
       "      <td>-0.000512</td>\n",
       "      <td>-0.000640</td>\n",
       "      <td>-0.000896</td>\n",
       "      <td>-0.000896</td>\n",
       "      <td>-0.000896</td>\n",
       "      <td>-0.001536</td>\n",
       "      <td>...</td>\n",
       "      <td>-0.009471</td>\n",
       "      <td>-0.008703</td>\n",
       "      <td>-0.007679</td>\n",
       "      <td>-0.006271</td>\n",
       "      <td>-0.006016</td>\n",
       "      <td>-0.005504</td>\n",
       "      <td>-0.004352</td>\n",
       "      <td>-0.002944</td>\n",
       "      <td>-0.001920</td>\n",
       "      <td>1</td>\n",
       "    </tr>\n",
       "  </tbody>\n",
       "</table>\n",
       "<p>5 rows × 3401 columns</p>\n",
       "</div>"
      ],
      "text/plain": [
       "          6         7         8         9        10        11        12  \\\n",
       "0  0.000384  0.000640  0.001408  0.001792  0.001408  0.001280  0.001920   \n",
       "1 -0.003712 -0.003968 -0.004608 -0.004992 -0.005632 -0.006016 -0.006271   \n",
       "2 -0.000640 -0.000512 -0.000768 -0.000640 -0.000768  0.000000 -0.000256   \n",
       "3 -0.001152 -0.000896 -0.000384  0.000128  0.000000 -0.000128 -0.000768   \n",
       "4 -0.002176 -0.001920 -0.001024 -0.000640 -0.000512 -0.000640 -0.000896   \n",
       "\n",
       "         13        14        15  ...      3397      3398      3399      3400  \\\n",
       "0  0.002304  0.001920  0.002688  ... -0.010879 -0.011519 -0.011391 -0.011647   \n",
       "1 -0.006016 -0.006399 -0.006271  ... -0.006271 -0.006016 -0.005760 -0.004864   \n",
       "2 -0.000256 -0.000768 -0.001024  ... -0.006911 -0.006911 -0.006783 -0.006911   \n",
       "3 -0.001280 -0.001280 -0.000896  ...  0.013183  0.013695  0.013951  0.014463   \n",
       "4 -0.000896 -0.000896 -0.001536  ... -0.009471 -0.008703 -0.007679 -0.006271   \n",
       "\n",
       "       3401      3402      3403      3404      3405  label  \n",
       "0 -0.011775 -0.011391 -0.011263 -0.010623 -0.009215      1  \n",
       "1 -0.003840 -0.002816 -0.002176 -0.001920 -0.001792      1  \n",
       "2 -0.006399 -0.006016 -0.005376 -0.004352 -0.003328      1  \n",
       "3  0.014463  0.014335  0.013823  0.013311  0.012159      1  \n",
       "4 -0.006016 -0.005504 -0.004352 -0.002944 -0.001920      1  \n",
       "\n",
       "[5 rows x 3401 columns]"
      ]
     },
     "execution_count": 98,
     "metadata": {},
     "output_type": "execute_result"
    }
   ],
   "source": [
    "df.head()"
   ]
  },
  {
   "cell_type": "code",
   "execution_count": 99,
   "metadata": {},
   "outputs": [
    {
     "name": "stderr",
     "output_type": "stream",
     "text": [
      "100%|████████████████████████████████████████████████████████████████████████████████████| 4/4 [00:27<00:00,  6.90s/it]\n"
     ]
    }
   ],
   "source": [
    "obj2_files = glob('Desktop\\Files for task 1 and task 6\\Object 2\\*')\n",
    "df_2 = pd.DataFrame()\n",
    "for i in tqdm(obj2_files):\n",
    "    df_2 = pd.concat([df_2, pd.read_excel(i, header=None).iloc[:,6:]])"
   ]
  },
  {
   "cell_type": "code",
   "execution_count": 101,
   "metadata": {},
   "outputs": [],
   "source": [
    "df_2['label'] = 0"
   ]
  },
  {
   "cell_type": "code",
   "execution_count": 102,
   "metadata": {},
   "outputs": [
    {
     "data": {
      "text/plain": [
       "(200, 3401)"
      ]
     },
     "execution_count": 102,
     "metadata": {},
     "output_type": "execute_result"
    }
   ],
   "source": [
    "df_2.shape"
   ]
  },
  {
   "cell_type": "code",
   "execution_count": 103,
   "metadata": {},
   "outputs": [],
   "source": [
    "merge_df = pd.concat([df, df_2])"
   ]
  },
  {
   "cell_type": "markdown",
   "metadata": {},
   "source": [
    "### Train-Test Split"
   ]
  },
  {
   "cell_type": "code",
   "execution_count": 104,
   "metadata": {},
   "outputs": [],
   "source": [
    "from sklearn.model_selection import train_test_split"
   ]
  },
  {
   "cell_type": "code",
   "execution_count": 115,
   "metadata": {},
   "outputs": [],
   "source": [
    "X_train, X_test, y_train, y_test = train_test_split(merge_df.iloc[:,:3400], merge_df['label'], test_size=0.2)"
   ]
  },
  {
   "cell_type": "markdown",
   "metadata": {},
   "source": [
    "### Define and Train Model"
   ]
  },
  {
   "cell_type": "code",
   "execution_count": 107,
   "metadata": {},
   "outputs": [],
   "source": [
    "from sklearn.ensemble import RandomForestClassifier"
   ]
  },
  {
   "cell_type": "code",
   "execution_count": 116,
   "metadata": {},
   "outputs": [],
   "source": [
    "rf = RandomForestClassifier()"
   ]
  },
  {
   "cell_type": "code",
   "execution_count": 117,
   "metadata": {},
   "outputs": [
    {
     "data": {
      "text/plain": [
       "RandomForestClassifier()"
      ]
     },
     "execution_count": 117,
     "metadata": {},
     "output_type": "execute_result"
    }
   ],
   "source": [
    "rf.fit(X_train, y_train)"
   ]
  },
  {
   "cell_type": "code",
   "execution_count": 118,
   "metadata": {},
   "outputs": [],
   "source": [
    "y_pred = rf.predict(X_test)"
   ]
  },
  {
   "cell_type": "markdown",
   "metadata": {},
   "source": [
    "### Check Metrics, like Accuracy"
   ]
  },
  {
   "cell_type": "code",
   "execution_count": 111,
   "metadata": {},
   "outputs": [],
   "source": [
    "from sklearn.metrics import accuracy_score"
   ]
  },
  {
   "cell_type": "code",
   "execution_count": 121,
   "metadata": {},
   "outputs": [
    {
     "data": {
      "text/plain": [
       "1.0"
      ]
     },
     "execution_count": 121,
     "metadata": {},
     "output_type": "execute_result"
    }
   ],
   "source": [
    "accuracy_score(y_test, y_pred)"
   ]
  },
  {
   "cell_type": "code",
   "execution_count": 119,
   "metadata": {},
   "outputs": [
    {
     "data": {
      "text/plain": [
       "1    248\n",
       "0    164\n",
       "Name: label, dtype: int64"
      ]
     },
     "execution_count": 119,
     "metadata": {},
     "output_type": "execute_result"
    }
   ],
   "source": [
    "y_train.value_counts()"
   ]
  },
  {
   "cell_type": "code",
   "execution_count": 120,
   "metadata": {},
   "outputs": [
    {
     "data": {
      "text/plain": [
       "1    67\n",
       "0    36\n",
       "Name: label, dtype: int64"
      ]
     },
     "execution_count": 120,
     "metadata": {},
     "output_type": "execute_result"
    }
   ],
   "source": [
    "y_test.value_counts()"
   ]
  },
  {
   "cell_type": "code",
   "execution_count": 94,
   "metadata": {},
   "outputs": [
    {
     "data": {
      "text/plain": [
       "8585664"
      ]
     },
     "execution_count": 94,
     "metadata": {},
     "output_type": "execute_result"
    }
   ],
   "source": [
    "import sys\n",
    "sys.getsizeof(df)"
   ]
  },
  {
   "cell_type": "code",
   "execution_count": null,
   "metadata": {},
   "outputs": [],
   "source": []
  },
  {
   "cell_type": "code",
   "execution_count": null,
   "metadata": {},
   "outputs": [],
   "source": []
  },
  {
   "cell_type": "code",
   "execution_count": 80,
   "metadata": {},
   "outputs": [
    {
     "data": {
      "text/html": [
       "<div>\n",
       "<style scoped>\n",
       "    .dataframe tbody tr th:only-of-type {\n",
       "        vertical-align: middle;\n",
       "    }\n",
       "\n",
       "    .dataframe tbody tr th {\n",
       "        vertical-align: top;\n",
       "    }\n",
       "\n",
       "    .dataframe thead th {\n",
       "        text-align: right;\n",
       "    }\n",
       "</style>\n",
       "<table border=\"1\" class=\"dataframe\">\n",
       "  <thead>\n",
       "    <tr style=\"text-align: right;\">\n",
       "      <th></th>\n",
       "      <th>0</th>\n",
       "      <th>1</th>\n",
       "      <th>2</th>\n",
       "      <th>3</th>\n",
       "      <th>4</th>\n",
       "      <th>5</th>\n",
       "      <th>6</th>\n",
       "      <th>7</th>\n",
       "      <th>8</th>\n",
       "      <th>9</th>\n",
       "      <th>...</th>\n",
       "      <th>3396</th>\n",
       "      <th>3397</th>\n",
       "      <th>3398</th>\n",
       "      <th>3399</th>\n",
       "      <th>3400</th>\n",
       "      <th>3401</th>\n",
       "      <th>3402</th>\n",
       "      <th>3403</th>\n",
       "      <th>3404</th>\n",
       "      <th>3405</th>\n",
       "    </tr>\n",
       "  </thead>\n",
       "  <tbody>\n",
       "    <tr>\n",
       "      <th>0</th>\n",
       "      <td>2</td>\n",
       "      <td>4</td>\n",
       "      <td>99</td>\n",
       "      <td>5795</td>\n",
       "      <td>23</td>\n",
       "      <td>3400</td>\n",
       "      <td>0.000384</td>\n",
       "      <td>0.000640</td>\n",
       "      <td>0.001408</td>\n",
       "      <td>0.001792</td>\n",
       "      <td>...</td>\n",
       "      <td>-0.010111</td>\n",
       "      <td>-0.010879</td>\n",
       "      <td>-0.011519</td>\n",
       "      <td>-0.011391</td>\n",
       "      <td>-0.011647</td>\n",
       "      <td>-0.011775</td>\n",
       "      <td>-0.011391</td>\n",
       "      <td>-0.011263</td>\n",
       "      <td>-0.010623</td>\n",
       "      <td>-0.009215</td>\n",
       "    </tr>\n",
       "    <tr>\n",
       "      <th>1</th>\n",
       "      <td>2</td>\n",
       "      <td>4</td>\n",
       "      <td>96</td>\n",
       "      <td>5532</td>\n",
       "      <td>23</td>\n",
       "      <td>3400</td>\n",
       "      <td>-0.003712</td>\n",
       "      <td>-0.003968</td>\n",
       "      <td>-0.004608</td>\n",
       "      <td>-0.004992</td>\n",
       "      <td>...</td>\n",
       "      <td>-0.006399</td>\n",
       "      <td>-0.006271</td>\n",
       "      <td>-0.006016</td>\n",
       "      <td>-0.005760</td>\n",
       "      <td>-0.004864</td>\n",
       "      <td>-0.003840</td>\n",
       "      <td>-0.002816</td>\n",
       "      <td>-0.002176</td>\n",
       "      <td>-0.001920</td>\n",
       "      <td>-0.001792</td>\n",
       "    </tr>\n",
       "    <tr>\n",
       "      <th>2</th>\n",
       "      <td>2</td>\n",
       "      <td>4</td>\n",
       "      <td>96</td>\n",
       "      <td>5512</td>\n",
       "      <td>23</td>\n",
       "      <td>3400</td>\n",
       "      <td>-0.000640</td>\n",
       "      <td>-0.000512</td>\n",
       "      <td>-0.000768</td>\n",
       "      <td>-0.000640</td>\n",
       "      <td>...</td>\n",
       "      <td>-0.006271</td>\n",
       "      <td>-0.006911</td>\n",
       "      <td>-0.006911</td>\n",
       "      <td>-0.006783</td>\n",
       "      <td>-0.006911</td>\n",
       "      <td>-0.006399</td>\n",
       "      <td>-0.006016</td>\n",
       "      <td>-0.005376</td>\n",
       "      <td>-0.004352</td>\n",
       "      <td>-0.003328</td>\n",
       "    </tr>\n",
       "    <tr>\n",
       "      <th>3</th>\n",
       "      <td>2</td>\n",
       "      <td>4</td>\n",
       "      <td>64</td>\n",
       "      <td>1843</td>\n",
       "      <td>23</td>\n",
       "      <td>3400</td>\n",
       "      <td>-0.001152</td>\n",
       "      <td>-0.000896</td>\n",
       "      <td>-0.000384</td>\n",
       "      <td>0.000128</td>\n",
       "      <td>...</td>\n",
       "      <td>0.011519</td>\n",
       "      <td>0.013183</td>\n",
       "      <td>0.013695</td>\n",
       "      <td>0.013951</td>\n",
       "      <td>0.014463</td>\n",
       "      <td>0.014463</td>\n",
       "      <td>0.014335</td>\n",
       "      <td>0.013823</td>\n",
       "      <td>0.013311</td>\n",
       "      <td>0.012159</td>\n",
       "    </tr>\n",
       "    <tr>\n",
       "      <th>4</th>\n",
       "      <td>2</td>\n",
       "      <td>4</td>\n",
       "      <td>55</td>\n",
       "      <td>883</td>\n",
       "      <td>23</td>\n",
       "      <td>3400</td>\n",
       "      <td>-0.002176</td>\n",
       "      <td>-0.001920</td>\n",
       "      <td>-0.001024</td>\n",
       "      <td>-0.000640</td>\n",
       "      <td>...</td>\n",
       "      <td>-0.009855</td>\n",
       "      <td>-0.009471</td>\n",
       "      <td>-0.008703</td>\n",
       "      <td>-0.007679</td>\n",
       "      <td>-0.006271</td>\n",
       "      <td>-0.006016</td>\n",
       "      <td>-0.005504</td>\n",
       "      <td>-0.004352</td>\n",
       "      <td>-0.002944</td>\n",
       "      <td>-0.001920</td>\n",
       "    </tr>\n",
       "  </tbody>\n",
       "</table>\n",
       "<p>5 rows × 3406 columns</p>\n",
       "</div>"
      ],
      "text/plain": [
       "   0     1     2     3     4     5         6         7         8         9     \\\n",
       "0     2     4    99  5795    23  3400  0.000384  0.000640  0.001408  0.001792   \n",
       "1     2     4    96  5532    23  3400 -0.003712 -0.003968 -0.004608 -0.004992   \n",
       "2     2     4    96  5512    23  3400 -0.000640 -0.000512 -0.000768 -0.000640   \n",
       "3     2     4    64  1843    23  3400 -0.001152 -0.000896 -0.000384  0.000128   \n",
       "4     2     4    55   883    23  3400 -0.002176 -0.001920 -0.001024 -0.000640   \n",
       "\n",
       "   ...      3396      3397      3398      3399      3400      3401      3402  \\\n",
       "0  ... -0.010111 -0.010879 -0.011519 -0.011391 -0.011647 -0.011775 -0.011391   \n",
       "1  ... -0.006399 -0.006271 -0.006016 -0.005760 -0.004864 -0.003840 -0.002816   \n",
       "2  ... -0.006271 -0.006911 -0.006911 -0.006783 -0.006911 -0.006399 -0.006016   \n",
       "3  ...  0.011519  0.013183  0.013695  0.013951  0.014463  0.014463  0.014335   \n",
       "4  ... -0.009855 -0.009471 -0.008703 -0.007679 -0.006271 -0.006016 -0.005504   \n",
       "\n",
       "       3403      3404      3405  \n",
       "0 -0.011263 -0.010623 -0.009215  \n",
       "1 -0.002176 -0.001920 -0.001792  \n",
       "2 -0.005376 -0.004352 -0.003328  \n",
       "3  0.013823  0.013311  0.012159  \n",
       "4 -0.004352 -0.002944 -0.001920  \n",
       "\n",
       "[5 rows x 3406 columns]"
      ]
     },
     "execution_count": 80,
     "metadata": {},
     "output_type": "execute_result"
    }
   ],
   "source": [
    "import pandas as pd\n",
    "from matplotlib import pyplot\n",
    "\n",
    "#loading excel file\n",
    "\n",
    "df= pd.read_excel (r'C:\\Users\\MANDEEP SINGH SHERRY\\Desktop\\Files for task 1 and task 6\\Object 1\\record_data_2020-10-29_10-41-1_H.xlsx',\n",
    "                   header = None)\n",
    "df.head()"
   ]
  },
  {
   "cell_type": "code",
   "execution_count": null,
   "metadata": {},
   "outputs": [],
   "source": []
  },
  {
   "cell_type": "code",
   "execution_count": null,
   "metadata": {},
   "outputs": [],
   "source": []
  },
  {
   "cell_type": "code",
   "execution_count": null,
   "metadata": {},
   "outputs": [],
   "source": []
  }
 ],
 "metadata": {
  "kernelspec": {
   "display_name": "Python 3",
   "language": "python",
   "name": "python3"
  },
  "language_info": {
   "codemirror_mode": {
    "name": "ipython",
    "version": 3
   },
   "file_extension": ".py",
   "mimetype": "text/x-python",
   "name": "python",
   "nbconvert_exporter": "python",
   "pygments_lexer": "ipython3",
   "version": "3.7.1"
  }
 },
 "nbformat": 4,
 "nbformat_minor": 4
}
