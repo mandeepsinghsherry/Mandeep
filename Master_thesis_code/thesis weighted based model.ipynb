{
 "cells": [
  {
   "cell_type": "code",
   "execution_count": 1,
   "metadata": {},
   "outputs": [
    {
     "data": {
      "text/plain": [
       "True"
      ]
     },
     "execution_count": 1,
     "metadata": {},
     "output_type": "execute_result"
    }
   ],
   "source": [
    "import cv2 as cv\n",
    " \n",
    "img1=cv.imread(\"C:/Users/MANDEEP SINGH SHERRY/Desktop/practise/chair_bottle14.jpg\") #Read picture 1\n",
    "img2=cv.imread(\"C:/Users/MANDEEP SINGH SHERRY/Desktop/practise/chair_bottle_WGH3.jpg\") #Read picture 2\n",
    " \n",
    "# 'cv.imshow(ch(\"visible light picture\"), img1)\n",
    "# cv.imshow(ch(\"Infrared Picture\"), img2)'\n",
    " \n",
    "dst1=cv.addWeighted(img1,0.50,img2,0.50,0) #Weighted fusion processing means that picture 1 accounts for 25% and picture 2 accounts for 75%\n",
    "cv.imwrite(\"C:/Users/MANDEEP SINGH SHERRY/Desktop/practise/twomodels.jpg\",dst1)\n",
    " \n",
    "# cv.waitKey(0)\n",
    "# cv.destroyAllWindows()"
   ]
  }
 ],
 "metadata": {
  "kernelspec": {
   "display_name": "Python 3",
   "language": "python",
   "name": "python3"
  },
  "language_info": {
   "codemirror_mode": {
    "name": "ipython",
    "version": 3
   },
   "file_extension": ".py",
   "mimetype": "text/x-python",
   "name": "python",
   "nbconvert_exporter": "python",
   "pygments_lexer": "ipython3",
   "version": "3.8.5"
  }
 },
 "nbformat": 4,
 "nbformat_minor": 4
}
